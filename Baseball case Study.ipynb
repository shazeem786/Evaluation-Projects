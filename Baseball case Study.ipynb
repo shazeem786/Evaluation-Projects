{
 "cells": [
  {
   "cell_type": "code",
   "execution_count": 121,
   "id": "711c219f",
   "metadata": {},
   "outputs": [],
   "source": [
    "import pandas as pd\n",
    "import seaborn as sns\n",
    "import numpy as np\n",
    "import matplotlib.pyplot as plt\n",
    "import warnings\n",
    "warnings.filterwarnings('ignore')"
   ]
  },
  {
   "cell_type": "code",
   "execution_count": 122,
   "id": "9fb1288b",
   "metadata": {},
   "outputs": [],
   "source": [
    "df=pd.read_csv(\"https://raw.githubusercontent.com/dsrscientist/Data-Science-ML-Capstone-Projects/master/baseball.csv\")"
   ]
  },
  {
   "cell_type": "code",
   "execution_count": 123,
   "id": "a4ea29b3",
   "metadata": {},
   "outputs": [
    {
     "data": {
      "text/html": [
       "<div>\n",
       "<style scoped>\n",
       "    .dataframe tbody tr th:only-of-type {\n",
       "        vertical-align: middle;\n",
       "    }\n",
       "\n",
       "    .dataframe tbody tr th {\n",
       "        vertical-align: top;\n",
       "    }\n",
       "\n",
       "    .dataframe thead th {\n",
       "        text-align: right;\n",
       "    }\n",
       "</style>\n",
       "<table border=\"1\" class=\"dataframe\">\n",
       "  <thead>\n",
       "    <tr style=\"text-align: right;\">\n",
       "      <th></th>\n",
       "      <th>W</th>\n",
       "      <th>R</th>\n",
       "      <th>AB</th>\n",
       "      <th>H</th>\n",
       "      <th>2B</th>\n",
       "      <th>3B</th>\n",
       "      <th>HR</th>\n",
       "      <th>BB</th>\n",
       "      <th>SO</th>\n",
       "      <th>SB</th>\n",
       "      <th>RA</th>\n",
       "      <th>ER</th>\n",
       "      <th>ERA</th>\n",
       "      <th>CG</th>\n",
       "      <th>SHO</th>\n",
       "      <th>SV</th>\n",
       "      <th>E</th>\n",
       "    </tr>\n",
       "  </thead>\n",
       "  <tbody>\n",
       "    <tr>\n",
       "      <th>0</th>\n",
       "      <td>95</td>\n",
       "      <td>724</td>\n",
       "      <td>5575</td>\n",
       "      <td>1497</td>\n",
       "      <td>300</td>\n",
       "      <td>42</td>\n",
       "      <td>139</td>\n",
       "      <td>383</td>\n",
       "      <td>973</td>\n",
       "      <td>104</td>\n",
       "      <td>641</td>\n",
       "      <td>601</td>\n",
       "      <td>3.73</td>\n",
       "      <td>2</td>\n",
       "      <td>8</td>\n",
       "      <td>56</td>\n",
       "      <td>88</td>\n",
       "    </tr>\n",
       "    <tr>\n",
       "      <th>1</th>\n",
       "      <td>83</td>\n",
       "      <td>696</td>\n",
       "      <td>5467</td>\n",
       "      <td>1349</td>\n",
       "      <td>277</td>\n",
       "      <td>44</td>\n",
       "      <td>156</td>\n",
       "      <td>439</td>\n",
       "      <td>1264</td>\n",
       "      <td>70</td>\n",
       "      <td>700</td>\n",
       "      <td>653</td>\n",
       "      <td>4.07</td>\n",
       "      <td>2</td>\n",
       "      <td>12</td>\n",
       "      <td>45</td>\n",
       "      <td>86</td>\n",
       "    </tr>\n",
       "    <tr>\n",
       "      <th>2</th>\n",
       "      <td>81</td>\n",
       "      <td>669</td>\n",
       "      <td>5439</td>\n",
       "      <td>1395</td>\n",
       "      <td>303</td>\n",
       "      <td>29</td>\n",
       "      <td>141</td>\n",
       "      <td>533</td>\n",
       "      <td>1157</td>\n",
       "      <td>86</td>\n",
       "      <td>640</td>\n",
       "      <td>584</td>\n",
       "      <td>3.67</td>\n",
       "      <td>11</td>\n",
       "      <td>10</td>\n",
       "      <td>38</td>\n",
       "      <td>79</td>\n",
       "    </tr>\n",
       "    <tr>\n",
       "      <th>3</th>\n",
       "      <td>76</td>\n",
       "      <td>622</td>\n",
       "      <td>5533</td>\n",
       "      <td>1381</td>\n",
       "      <td>260</td>\n",
       "      <td>27</td>\n",
       "      <td>136</td>\n",
       "      <td>404</td>\n",
       "      <td>1231</td>\n",
       "      <td>68</td>\n",
       "      <td>701</td>\n",
       "      <td>643</td>\n",
       "      <td>3.98</td>\n",
       "      <td>7</td>\n",
       "      <td>9</td>\n",
       "      <td>37</td>\n",
       "      <td>101</td>\n",
       "    </tr>\n",
       "    <tr>\n",
       "      <th>4</th>\n",
       "      <td>74</td>\n",
       "      <td>689</td>\n",
       "      <td>5605</td>\n",
       "      <td>1515</td>\n",
       "      <td>289</td>\n",
       "      <td>49</td>\n",
       "      <td>151</td>\n",
       "      <td>455</td>\n",
       "      <td>1259</td>\n",
       "      <td>83</td>\n",
       "      <td>803</td>\n",
       "      <td>746</td>\n",
       "      <td>4.64</td>\n",
       "      <td>7</td>\n",
       "      <td>12</td>\n",
       "      <td>35</td>\n",
       "      <td>86</td>\n",
       "    </tr>\n",
       "  </tbody>\n",
       "</table>\n",
       "</div>"
      ],
      "text/plain": [
       "    W    R    AB     H   2B  3B   HR   BB    SO   SB   RA   ER   ERA  CG  SHO  \\\n",
       "0  95  724  5575  1497  300  42  139  383   973  104  641  601  3.73   2    8   \n",
       "1  83  696  5467  1349  277  44  156  439  1264   70  700  653  4.07   2   12   \n",
       "2  81  669  5439  1395  303  29  141  533  1157   86  640  584  3.67  11   10   \n",
       "3  76  622  5533  1381  260  27  136  404  1231   68  701  643  3.98   7    9   \n",
       "4  74  689  5605  1515  289  49  151  455  1259   83  803  746  4.64   7   12   \n",
       "\n",
       "   SV    E  \n",
       "0  56   88  \n",
       "1  45   86  \n",
       "2  38   79  \n",
       "3  37  101  \n",
       "4  35   86  "
      ]
     },
     "execution_count": 123,
     "metadata": {},
     "output_type": "execute_result"
    }
   ],
   "source": [
    "df.head()"
   ]
  },
  {
   "cell_type": "code",
   "execution_count": 124,
   "id": "354eb0d3",
   "metadata": {},
   "outputs": [
    {
     "data": {
      "text/plain": [
       "W        int64\n",
       "R        int64\n",
       "AB       int64\n",
       "H        int64\n",
       "2B       int64\n",
       "3B       int64\n",
       "HR       int64\n",
       "BB       int64\n",
       "SO       int64\n",
       "SB       int64\n",
       "RA       int64\n",
       "ER       int64\n",
       "ERA    float64\n",
       "CG       int64\n",
       "SHO      int64\n",
       "SV       int64\n",
       "E        int64\n",
       "dtype: object"
      ]
     },
     "execution_count": 124,
     "metadata": {},
     "output_type": "execute_result"
    }
   ],
   "source": [
    "df.dtypes"
   ]
  },
  {
   "cell_type": "markdown",
   "id": "da13dd0a",
   "metadata": {},
   "source": [
    "w target value is int64, continues value so we use Regression to learn the model"
   ]
  },
  {
   "cell_type": "markdown",
   "id": "26ac547b",
   "metadata": {},
   "source": [
    "# EDA"
   ]
  },
  {
   "cell_type": "code",
   "execution_count": 125,
   "id": "60cf471a",
   "metadata": {},
   "outputs": [
    {
     "data": {
      "text/plain": [
       "(30, 17)"
      ]
     },
     "execution_count": 125,
     "metadata": {},
     "output_type": "execute_result"
    }
   ],
   "source": [
    "df.shape"
   ]
  },
  {
   "cell_type": "markdown",
   "id": "cffecdac",
   "metadata": {},
   "source": [
    "There are 30 rows and 17 columns in Baseball Dataset"
   ]
  },
  {
   "cell_type": "code",
   "execution_count": 126,
   "id": "9044f10f",
   "metadata": {},
   "outputs": [
    {
     "name": "stdout",
     "output_type": "stream",
     "text": [
      "<class 'pandas.core.frame.DataFrame'>\n",
      "RangeIndex: 30 entries, 0 to 29\n",
      "Data columns (total 17 columns):\n",
      " #   Column  Non-Null Count  Dtype  \n",
      "---  ------  --------------  -----  \n",
      " 0   W       30 non-null     int64  \n",
      " 1   R       30 non-null     int64  \n",
      " 2   AB      30 non-null     int64  \n",
      " 3   H       30 non-null     int64  \n",
      " 4   2B      30 non-null     int64  \n",
      " 5   3B      30 non-null     int64  \n",
      " 6   HR      30 non-null     int64  \n",
      " 7   BB      30 non-null     int64  \n",
      " 8   SO      30 non-null     int64  \n",
      " 9   SB      30 non-null     int64  \n",
      " 10  RA      30 non-null     int64  \n",
      " 11  ER      30 non-null     int64  \n",
      " 12  ERA     30 non-null     float64\n",
      " 13  CG      30 non-null     int64  \n",
      " 14  SHO     30 non-null     int64  \n",
      " 15  SV      30 non-null     int64  \n",
      " 16  E       30 non-null     int64  \n",
      "dtypes: float64(1), int64(16)\n",
      "memory usage: 4.1 KB\n"
     ]
    }
   ],
   "source": [
    "df.info()"
   ]
  },
  {
   "cell_type": "markdown",
   "id": "1278781a",
   "metadata": {},
   "source": [
    "There are 1 float and 16 int values and no null values"
   ]
  },
  {
   "cell_type": "code",
   "execution_count": 127,
   "id": "e1c0acd4",
   "metadata": {},
   "outputs": [
    {
     "data": {
      "text/plain": [
       "W      0\n",
       "R      0\n",
       "AB     0\n",
       "H      0\n",
       "2B     0\n",
       "3B     0\n",
       "HR     0\n",
       "BB     0\n",
       "SO     0\n",
       "SB     0\n",
       "RA     0\n",
       "ER     0\n",
       "ERA    0\n",
       "CG     0\n",
       "SHO    0\n",
       "SV     0\n",
       "E      0\n",
       "dtype: int64"
      ]
     },
     "execution_count": 127,
     "metadata": {},
     "output_type": "execute_result"
    }
   ],
   "source": [
    "df.isnull().sum()"
   ]
  },
  {
   "cell_type": "markdown",
   "id": "fac998c7",
   "metadata": {},
   "source": [
    "There are no missing values or null values"
   ]
  },
  {
   "cell_type": "markdown",
   "id": "0511fb33",
   "metadata": {},
   "source": [
    "Using Heatmap to check the null values"
   ]
  },
  {
   "cell_type": "code",
   "execution_count": 128,
   "id": "faabdcb2",
   "metadata": {},
   "outputs": [
    {
     "data": {
      "image/png": "[encoded data removed]",
      "text/plain": [
       "<Figure size 288x288 with 2 Axes>"
      ]
     },
     "metadata": {
      "needs_background": "light"
     },
     "output_type": "display_data"
    }
   ],
   "source": [
    "plt.figure(figsize=[4,4])\n",
    "sns.heatmap(df.isnull())\n",
    "plt.show()"
   ]
  },
  {
   "cell_type": "markdown",
   "id": "d67999a3",
   "metadata": {},
   "source": [
    "# Describing Dataset"
   ]
  },
  {
   "cell_type": "code",
   "execution_count": 129,
   "id": "63cf91ab",
   "metadata": {},
   "outputs": [
    {
     "data": {
      "text/html": [
       "<div>\n",
       "<style scoped>\n",
       "    .dataframe tbody tr th:only-of-type {\n",
       "        vertical-align: middle;\n",
       "    }\n",
       "\n",
       "    .dataframe tbody tr th {\n",
       "        vertical-align: top;\n",
       "    }\n",
       "\n",
       "    .dataframe thead th {\n",
       "        text-align: right;\n",
       "    }\n",
       "</style>\n",
       "<table border=\"1\" class=\"dataframe\">\n",
       "  <thead>\n",
       "    <tr style=\"text-align: right;\">\n",
       "      <th></th>\n",
       "      <th>W</th>\n",
       "      <th>R</th>\n",
       "      <th>AB</th>\n",
       "      <th>H</th>\n",
       "      <th>2B</th>\n",
       "      <th>3B</th>\n",
       "      <th>HR</th>\n",
       "      <th>BB</th>\n",
       "      <th>SO</th>\n",
       "      <th>SB</th>\n",
       "      <th>RA</th>\n",
       "      <th>ER</th>\n",
       "      <th>ERA</th>\n",
       "      <th>CG</th>\n",
       "      <th>SHO</th>\n",
       "      <th>SV</th>\n",
       "      <th>E</th>\n",
       "    </tr>\n",
       "  </thead>\n",
       "  <tbody>\n",
       "    <tr>\n",
       "      <th>count</th>\n",
       "      <td>30.000000</td>\n",
       "      <td>30.000000</td>\n",
       "      <td>30.000000</td>\n",
       "      <td>30.000000</td>\n",
       "      <td>30.000000</td>\n",
       "      <td>30.000000</td>\n",
       "      <td>30.000000</td>\n",
       "      <td>30.000000</td>\n",
       "      <td>30.00000</td>\n",
       "      <td>30.000000</td>\n",
       "      <td>30.000000</td>\n",
       "      <td>30.000000</td>\n",
       "      <td>30.000000</td>\n",
       "      <td>30.000000</td>\n",
       "      <td>30.000000</td>\n",
       "      <td>30.000000</td>\n",
       "      <td>30.000000</td>\n",
       "    </tr>\n",
       "    <tr>\n",
       "      <th>mean</th>\n",
       "      <td>80.966667</td>\n",
       "      <td>688.233333</td>\n",
       "      <td>5516.266667</td>\n",
       "      <td>1403.533333</td>\n",
       "      <td>274.733333</td>\n",
       "      <td>31.300000</td>\n",
       "      <td>163.633333</td>\n",
       "      <td>469.100000</td>\n",
       "      <td>1248.20000</td>\n",
       "      <td>83.500000</td>\n",
       "      <td>688.233333</td>\n",
       "      <td>635.833333</td>\n",
       "      <td>3.956333</td>\n",
       "      <td>3.466667</td>\n",
       "      <td>11.300000</td>\n",
       "      <td>43.066667</td>\n",
       "      <td>94.333333</td>\n",
       "    </tr>\n",
       "    <tr>\n",
       "      <th>std</th>\n",
       "      <td>10.453455</td>\n",
       "      <td>58.761754</td>\n",
       "      <td>70.467372</td>\n",
       "      <td>57.140923</td>\n",
       "      <td>18.095405</td>\n",
       "      <td>10.452355</td>\n",
       "      <td>31.823309</td>\n",
       "      <td>57.053725</td>\n",
       "      <td>103.75947</td>\n",
       "      <td>22.815225</td>\n",
       "      <td>72.108005</td>\n",
       "      <td>70.140786</td>\n",
       "      <td>0.454089</td>\n",
       "      <td>2.763473</td>\n",
       "      <td>4.120177</td>\n",
       "      <td>7.869335</td>\n",
       "      <td>13.958889</td>\n",
       "    </tr>\n",
       "    <tr>\n",
       "      <th>min</th>\n",
       "      <td>63.000000</td>\n",
       "      <td>573.000000</td>\n",
       "      <td>5385.000000</td>\n",
       "      <td>1324.000000</td>\n",
       "      <td>236.000000</td>\n",
       "      <td>13.000000</td>\n",
       "      <td>100.000000</td>\n",
       "      <td>375.000000</td>\n",
       "      <td>973.00000</td>\n",
       "      <td>44.000000</td>\n",
       "      <td>525.000000</td>\n",
       "      <td>478.000000</td>\n",
       "      <td>2.940000</td>\n",
       "      <td>0.000000</td>\n",
       "      <td>4.000000</td>\n",
       "      <td>28.000000</td>\n",
       "      <td>75.000000</td>\n",
       "    </tr>\n",
       "    <tr>\n",
       "      <th>25%</th>\n",
       "      <td>74.000000</td>\n",
       "      <td>651.250000</td>\n",
       "      <td>5464.000000</td>\n",
       "      <td>1363.000000</td>\n",
       "      <td>262.250000</td>\n",
       "      <td>23.000000</td>\n",
       "      <td>140.250000</td>\n",
       "      <td>428.250000</td>\n",
       "      <td>1157.50000</td>\n",
       "      <td>69.000000</td>\n",
       "      <td>636.250000</td>\n",
       "      <td>587.250000</td>\n",
       "      <td>3.682500</td>\n",
       "      <td>1.000000</td>\n",
       "      <td>9.000000</td>\n",
       "      <td>37.250000</td>\n",
       "      <td>86.000000</td>\n",
       "    </tr>\n",
       "    <tr>\n",
       "      <th>50%</th>\n",
       "      <td>81.000000</td>\n",
       "      <td>689.000000</td>\n",
       "      <td>5510.000000</td>\n",
       "      <td>1382.500000</td>\n",
       "      <td>275.500000</td>\n",
       "      <td>31.000000</td>\n",
       "      <td>158.500000</td>\n",
       "      <td>473.000000</td>\n",
       "      <td>1261.50000</td>\n",
       "      <td>83.500000</td>\n",
       "      <td>695.500000</td>\n",
       "      <td>644.500000</td>\n",
       "      <td>4.025000</td>\n",
       "      <td>3.000000</td>\n",
       "      <td>12.000000</td>\n",
       "      <td>42.000000</td>\n",
       "      <td>91.000000</td>\n",
       "    </tr>\n",
       "    <tr>\n",
       "      <th>75%</th>\n",
       "      <td>87.750000</td>\n",
       "      <td>718.250000</td>\n",
       "      <td>5570.000000</td>\n",
       "      <td>1451.500000</td>\n",
       "      <td>288.750000</td>\n",
       "      <td>39.000000</td>\n",
       "      <td>177.000000</td>\n",
       "      <td>501.250000</td>\n",
       "      <td>1311.50000</td>\n",
       "      <td>96.500000</td>\n",
       "      <td>732.500000</td>\n",
       "      <td>679.250000</td>\n",
       "      <td>4.220000</td>\n",
       "      <td>5.750000</td>\n",
       "      <td>13.000000</td>\n",
       "      <td>46.750000</td>\n",
       "      <td>96.750000</td>\n",
       "    </tr>\n",
       "    <tr>\n",
       "      <th>max</th>\n",
       "      <td>100.000000</td>\n",
       "      <td>891.000000</td>\n",
       "      <td>5649.000000</td>\n",
       "      <td>1515.000000</td>\n",
       "      <td>308.000000</td>\n",
       "      <td>49.000000</td>\n",
       "      <td>232.000000</td>\n",
       "      <td>570.000000</td>\n",
       "      <td>1518.00000</td>\n",
       "      <td>134.000000</td>\n",
       "      <td>844.000000</td>\n",
       "      <td>799.000000</td>\n",
       "      <td>5.040000</td>\n",
       "      <td>11.000000</td>\n",
       "      <td>21.000000</td>\n",
       "      <td>62.000000</td>\n",
       "      <td>126.000000</td>\n",
       "    </tr>\n",
       "  </tbody>\n",
       "</table>\n",
       "</div>"
      ],
      "text/plain": [
       "                W           R           AB            H          2B  \\\n",
       "count   30.000000   30.000000    30.000000    30.000000   30.000000   \n",
       "mean    80.966667  688.233333  5516.266667  1403.533333  274.733333   \n",
       "std     10.453455   58.761754    70.467372    57.140923   18.095405   \n",
       "min     63.000000  573.000000  5385.000000  1324.000000  236.000000   \n",
       "25%     74.000000  651.250000  5464.000000  1363.000000  262.250000   \n",
       "50%     81.000000  689.000000  5510.000000  1382.500000  275.500000   \n",
       "75%     87.750000  718.250000  5570.000000  1451.500000  288.750000   \n",
       "max    100.000000  891.000000  5649.000000  1515.000000  308.000000   \n",
       "\n",
       "              3B          HR          BB          SO          SB          RA  \\\n",
       "count  30.000000   30.000000   30.000000    30.00000   30.000000   30.000000   \n",
       "mean   31.300000  163.633333  469.100000  1248.20000   83.500000  688.233333   \n",
       "std    10.452355   31.823309   57.053725   103.75947   22.815225   72.108005   \n",
       "min    13.000000  100.000000  375.000000   973.00000   44.000000  525.000000   \n",
       "25%    23.000000  140.250000  428.250000  1157.50000   69.000000  636.250000   \n",
       "50%    31.000000  158.500000  473.000000  1261.50000   83.500000  695.500000   \n",
       "75%    39.000000  177.000000  501.250000  1311.50000   96.500000  732.500000   \n",
       "max    49.000000  232.000000  570.000000  1518.00000  134.000000  844.000000   \n",
       "\n",
       "               ER        ERA         CG        SHO         SV           E  \n",
       "count   30.000000  30.000000  30.000000  30.000000  30.000000   30.000000  \n",
       "mean   635.833333   3.956333   3.466667  11.300000  43.066667   94.333333  \n",
       "std     70.140786   0.454089   2.763473   4.120177   7.869335   13.958889  \n",
       "min    478.000000   2.940000   0.000000   4.000000  28.000000   75.000000  \n",
       "25%    587.250000   3.682500   1.000000   9.000000  37.250000   86.000000  \n",
       "50%    644.500000   4.025000   3.000000  12.000000  42.000000   91.000000  \n",
       "75%    679.250000   4.220000   5.750000  13.000000  46.750000   96.750000  \n",
       "max    799.000000   5.040000  11.000000  21.000000  62.000000  126.000000  "
      ]
     },
     "execution_count": 129,
     "metadata": {},
     "output_type": "execute_result"
    }
   ],
   "source": [
    "df.describe()"
   ]
  },
  {
   "cell_type": "markdown",
   "id": "d82c88ba",
   "metadata": {},
   "source": [
    "All the columns are positive with high and low values"
   ]
  },
  {
   "cell_type": "markdown",
   "id": "d10525c1",
   "metadata": {},
   "source": [
    "# Visualization"
   ]
  },
  {
   "cell_type": "markdown",
   "id": "22405cd8",
   "metadata": {},
   "source": [
    "Univariate Analysis"
   ]
  },
  {
   "cell_type": "code",
   "execution_count": 130,
   "id": "2e4ce604",
   "metadata": {},
   "outputs": [
    {
     "data": {
      "image/png": "[encoded data removed]",
      "text/plain": [
       "<Figure size 576x720 with 1 Axes>"
      ]
     },
     "metadata": {},
     "output_type": "display_data"
    },
    {
     "data": {
      "image/png": "[encoded data removed]",
      "text/plain": [
       "<Figure size 360x360 with 1 Axes>"
      ]
     },
     "metadata": {
      "needs_background": "light"
     },
     "output_type": "display_data"
    },
    {
     "data": {
      "image/png": "[encoded data removed]",
      "text/plain": [
       "<Figure size 360x360 with 1 Axes>"
      ]
     },
     "metadata": {
      "needs_background": "light"
     },
     "output_type": "display_data"
    },
    {
     "data": {
      "image/png": "[encoded data removed]",
      "text/plain": [
       "<Figure size 360x360 with 1 Axes>"
      ]
     },
     "metadata": {
      "needs_background": "light"
     },
     "output_type": "display_data"
    },
    {
     "data": {
      "image/png": "[encoded data removed]",
      "text/plain": [
       "<Figure size 360x360 with 1 Axes>"
      ]
     },
     "metadata": {
      "needs_background": "light"
     },
     "output_type": "display_data"
    },
    {
     "data": {
      "image/png": "[encoded data removed]",
      "text/plain": [
       "<Figure size 360x360 with 1 Axes>"
      ]
     },
     "metadata": {
      "needs_background": "light"
     },
     "output_type": "display_data"
    },
    {
     "data": {
      "image/png": "[encoded data removed]",
      "text/plain": [
       "<Figure size 360x360 with 1 Axes>"
      ]
     },
     "metadata": {
      "needs_background": "light"
     },
     "output_type": "display_data"
    },
    {
     "data": {
      "image/png": "[encoded data removed]",
      "text/plain": [
       "<Figure size 360x360 with 1 Axes>"
      ]
     },
     "metadata": {
      "needs_background": "light"
     },
     "output_type": "display_data"
    },
    {
     "data": {
      "image/png": "[encoded data removed]",
      "text/plain": [
       "<Figure size 360x360 with 1 Axes>"
      ]
     },
     "metadata": {
      "needs_background": "light"
     },
     "output_type": "display_data"
    },
    {
     "data": {
      "image/png": "[encoded data removed]",
      "text/plain": [
       "<Figure size 360x360 with 1 Axes>"
      ]
     },
     "metadata": {
      "needs_background": "light"
     },
     "output_type": "display_data"
    },
    {
     "data": {
      "image/png": "[encoded data removed]",
      "text/plain": [
       "<Figure size 360x360 with 1 Axes>"
      ]
     },
     "metadata": {
      "needs_background": "light"
     },
     "output_type": "display_data"
    },
    {
     "data": {
      "image/png": "[encoded data removed]",
      "text/plain": [
       "<Figure size 360x360 with 1 Axes>"
      ]
     },
     "metadata": {
      "needs_background": "light"
     },
     "output_type": "display_data"
    },
    {
     "data": {
      "image/png": "[encoded data removed]",
      "text/plain": [
       "<Figure size 360x360 with 1 Axes>"
      ]
     },
     "metadata": {
      "needs_background": "light"
     },
     "output_type": "display_data"
    },
    {
     "data": {
      "image/png": "[encoded data removed]",
      "text/plain": [
       "<Figure size 360x360 with 1 Axes>"
      ]
     },
     "metadata": {
      "needs_background": "light"
     },
     "output_type": "display_data"
    },
    {
     "data": {
      "image/png": "[encoded data removed]",
      "text/plain": [
       "<Figure size 360x360 with 1 Axes>"
      ]
     },
     "metadata": {
      "needs_background": "light"
     },
     "output_type": "display_data"
    },
    {
     "data": {
      "image/png": "[encoded data removed]",
      "text/plain": [
       "<Figure size 360x360 with 1 Axes>"
      ]
     },
     "metadata": {
      "needs_background": "light"
     },
     "output_type": "display_data"
    },
    {
     "data": {
      "image/png": "[encoded data removed]",
      "text/plain": [
       "<Figure size 360x360 with 1 Axes>"
      ]
     },
     "metadata": {
      "needs_background": "light"
     },
     "output_type": "display_data"
    },
    {
     "data": {
      "image/png": "[encoded data removed]",
      "text/plain": [
       "<Figure size 360x360 with 1 Axes>"
      ]
     },
     "metadata": {
      "needs_background": "light"
     },
     "output_type": "display_data"
    }
   ],
   "source": [
    "plt.figure(figsize=(8,10), facecolor= 'white')\n",
    "plotnumber=1\n",
    "\n",
    "for column in df:\n",
    "    if plotnumber <=17:\n",
    "        ax= plt.subplot(10,2, plotnumber)\n",
    "        sns.displot(df[column], color='green')\n",
    "        plt.xlabel(column, fontsize=20)\n",
    "        \n",
    "        \n",
    "    plotnumber +=1\n",
    "plt.show()"
   ]
  },
  {
   "cell_type": "code",
   "execution_count": 131,
   "id": "d78f3b19",
   "metadata": {},
   "outputs": [
    {
     "data": {
      "image/png": "[encoded data removed]",
      "text/plain": [
       "<Figure size 576x720 with 17 Axes>"
      ]
     },
     "metadata": {},
     "output_type": "display_data"
    }
   ],
   "source": [
    "plt.figure(figsize=(8,10), facecolor= 'white')\n",
    "plotnumber=1\n",
    "\n",
    "for column in df:\n",
    "    if plotnumber <=17:\n",
    "        ax= plt.subplot(10,2, plotnumber)\n",
    "        sns.histplot(df[column], color='blue')\n",
    "        plt.xlabel(column, fontsize=20)\n",
    "        \n",
    "        \n",
    "    plotnumber +=1\n",
    "plt.show()"
   ]
  },
  {
   "cell_type": "code",
   "execution_count": 132,
   "id": "65cee2a8",
   "metadata": {},
   "outputs": [
    {
     "data": {
      "image/png": "[encoded data removed]",
      "text/plain": [
       "<Figure size 576x720 with 17 Axes>"
      ]
     },
     "metadata": {},
     "output_type": "display_data"
    }
   ],
   "source": [
    "plt.figure(figsize=(8,10), facecolor= 'white')\n",
    "plotnumber=1\n",
    "\n",
    "for column in df:\n",
    "    if plotnumber <=17:\n",
    "        ax= plt.subplot(10,2, plotnumber)\n",
    "        sns.boxplot(df[column], color='red')\n",
    "        plt.xlabel(column, fontsize=20)\n",
    "        \n",
    "        \n",
    "    plotnumber +=1\n",
    "plt.show()"
   ]
  },
  {
   "cell_type": "markdown",
   "id": "2709ff5b",
   "metadata": {},
   "source": [
    "In the above box plot we can see that R ERA SHO E and SV variables in having outliers. We need to remove it"
   ]
  },
  {
   "cell_type": "markdown",
   "id": "34cba32c",
   "metadata": {},
   "source": [
    "Bivariate Analysis"
   ]
  },
  {
   "cell_type": "code",
   "execution_count": 133,
   "id": "7adc7851",
   "metadata": {},
   "outputs": [
    {
     "data": {
      "image/png": "[encoded data removed]",
      "text/plain": [
       "<Figure size 2160x4320 with 17 Axes>"
      ]
     },
     "metadata": {},
     "output_type": "display_data"
    }
   ],
   "source": [
    "plt.figure(figsize=(30,60), facecolor= 'white')\n",
    "plotnumber=1\n",
    "\n",
    "for column in df:\n",
    "    if plotnumber <=17:\n",
    "        ax= plt.subplot(10,8, plotnumber)\n",
    "        plt.scatter(df[column],df['W'], color='r')\n",
    "        plt.xlabel(column, fontsize=30)\n",
    "        plt.ylabel('W', fontsize=30)\n",
    "        \n",
    "        \n",
    "    plotnumber +=1\n",
    "plt.show()"
   ]
  },
  {
   "cell_type": "markdown",
   "id": "c0331163",
   "metadata": {},
   "source": [
    "columns SV SHO ERA and R having alomost linear relationship with target variables"
   ]
  },
  {
   "cell_type": "code",
   "execution_count": 134,
   "id": "0b49a3ae",
   "metadata": {},
   "outputs": [
    {
     "data": {
      "image/png": "[encoded data removed]",
      "text/plain": [
       "<Figure size 2160x4320 with 17 Axes>"
      ]
     },
     "metadata": {},
     "output_type": "display_data"
    }
   ],
   "source": [
    "plt.figure(figsize=(30,60), facecolor= 'white')\n",
    "plotnumber=1\n",
    "\n",
    "for column in df:\n",
    "    if plotnumber <=17:\n",
    "        ax= plt.subplot(10,8, plotnumber)\n",
    "        sns.regplot(df[column],df['W'])\n",
    "        plt.xlabel(column, fontsize=30)\n",
    "        plt.ylabel('W', fontsize=30)\n",
    "        \n",
    "        \n",
    "    plotnumber +=1\n",
    "plt.show()"
   ]
  },
  {
   "cell_type": "markdown",
   "id": "4c231334",
   "metadata": {},
   "source": [
    "Multivariate Analysis:"
   ]
  },
  {
   "cell_type": "code",
   "execution_count": 135,
   "id": "d7fe2f7c",
   "metadata": {},
   "outputs": [],
   "source": [
    "#sns.pairplot(df)\n",
    "#plt.show()"
   ]
  },
  {
   "cell_type": "markdown",
   "id": "f6bc3fc7",
   "metadata": {},
   "source": [
    "They are making a good correlation"
   ]
  },
  {
   "cell_type": "markdown",
   "id": "559be6fd",
   "metadata": {},
   "source": [
    "Plotting Heatmap"
   ]
  },
  {
   "cell_type": "code",
   "execution_count": 136,
   "id": "57b6edd5",
   "metadata": {},
   "outputs": [
    {
     "data": {
      "image/png": "[encoded data removed]",
      "text/plain": [
       "<Figure size 1080x720 with 2 Axes>"
      ]
     },
     "metadata": {
      "needs_background": "light"
     },
     "output_type": "display_data"
    }
   ],
   "source": [
    "plt.figure(figsize= [15,10])\n",
    "sns.heatmap(df.corr(), annot=True)\n",
    "plt.show()"
   ]
  },
  {
   "cell_type": "markdown",
   "id": "317440dd",
   "metadata": {},
   "source": [
    "RA, ER, ERA are higly correlated with each other and negatively corretaed with W. Hence droping er and ra and era\n",
    "as it effects on w."
   ]
  },
  {
   "cell_type": "markdown",
   "id": "4e7d01f9",
   "metadata": {},
   "source": [
    "# Checking for outliers"
   ]
  },
  {
   "cell_type": "code",
   "execution_count": 137,
   "id": "294a0f70",
   "metadata": {},
   "outputs": [
    {
     "data": {
      "text/plain": [
       "<AxesSubplot:>"
      ]
     },
     "execution_count": 137,
     "metadata": {},
     "output_type": "execute_result"
    },
    {
     "data": {
      "image/png": "[encoded data removed]",
      "text/plain": [
       "<Figure size 1440x2160 with 1 Axes>"
      ]
     },
     "metadata": {
      "needs_background": "light"
     },
     "output_type": "display_data"
    }
   ],
   "source": [
    "df.plot(kind='box', fontsize=15, figsize=(20,30), color='b')"
   ]
  },
  {
   "cell_type": "markdown",
   "id": "4eff4d5d",
   "metadata": {},
   "source": [
    "R ERA SHO SV E having outliers"
   ]
  },
  {
   "cell_type": "code",
   "execution_count": 138,
   "id": "0d248d14",
   "metadata": {},
   "outputs": [],
   "source": [
    "features=df[['R', 'ERA', 'SHO', 'SV', 'E']]"
   ]
  },
  {
   "cell_type": "code",
   "execution_count": 139,
   "id": "64a3d252",
   "metadata": {},
   "outputs": [
    {
     "data": {
      "text/html": [
       "<div>\n",
       "<style scoped>\n",
       "    .dataframe tbody tr th:only-of-type {\n",
       "        vertical-align: middle;\n",
       "    }\n",
       "\n",
       "    .dataframe tbody tr th {\n",
       "        vertical-align: top;\n",
       "    }\n",
       "\n",
       "    .dataframe thead th {\n",
       "        text-align: right;\n",
       "    }\n",
       "</style>\n",
       "<table border=\"1\" class=\"dataframe\">\n",
       "  <thead>\n",
       "    <tr style=\"text-align: right;\">\n",
       "      <th></th>\n",
       "      <th>W</th>\n",
       "      <th>R</th>\n",
       "      <th>AB</th>\n",
       "      <th>H</th>\n",
       "      <th>2B</th>\n",
       "      <th>3B</th>\n",
       "      <th>HR</th>\n",
       "      <th>BB</th>\n",
       "      <th>SO</th>\n",
       "      <th>SB</th>\n",
       "      <th>RA</th>\n",
       "      <th>ER</th>\n",
       "      <th>ERA</th>\n",
       "      <th>CG</th>\n",
       "      <th>SHO</th>\n",
       "      <th>SV</th>\n",
       "      <th>E</th>\n",
       "    </tr>\n",
       "  </thead>\n",
       "  <tbody>\n",
       "    <tr>\n",
       "      <th>0</th>\n",
       "      <td>95</td>\n",
       "      <td>724</td>\n",
       "      <td>5575</td>\n",
       "      <td>1497</td>\n",
       "      <td>300</td>\n",
       "      <td>42</td>\n",
       "      <td>139</td>\n",
       "      <td>383</td>\n",
       "      <td>973</td>\n",
       "      <td>104</td>\n",
       "      <td>641</td>\n",
       "      <td>601</td>\n",
       "      <td>3.73</td>\n",
       "      <td>2</td>\n",
       "      <td>8</td>\n",
       "      <td>56</td>\n",
       "      <td>88</td>\n",
       "    </tr>\n",
       "    <tr>\n",
       "      <th>1</th>\n",
       "      <td>83</td>\n",
       "      <td>696</td>\n",
       "      <td>5467</td>\n",
       "      <td>1349</td>\n",
       "      <td>277</td>\n",
       "      <td>44</td>\n",
       "      <td>156</td>\n",
       "      <td>439</td>\n",
       "      <td>1264</td>\n",
       "      <td>70</td>\n",
       "      <td>700</td>\n",
       "      <td>653</td>\n",
       "      <td>4.07</td>\n",
       "      <td>2</td>\n",
       "      <td>12</td>\n",
       "      <td>45</td>\n",
       "      <td>86</td>\n",
       "    </tr>\n",
       "    <tr>\n",
       "      <th>2</th>\n",
       "      <td>81</td>\n",
       "      <td>669</td>\n",
       "      <td>5439</td>\n",
       "      <td>1395</td>\n",
       "      <td>303</td>\n",
       "      <td>29</td>\n",
       "      <td>141</td>\n",
       "      <td>533</td>\n",
       "      <td>1157</td>\n",
       "      <td>86</td>\n",
       "      <td>640</td>\n",
       "      <td>584</td>\n",
       "      <td>3.67</td>\n",
       "      <td>11</td>\n",
       "      <td>10</td>\n",
       "      <td>38</td>\n",
       "      <td>79</td>\n",
       "    </tr>\n",
       "    <tr>\n",
       "      <th>3</th>\n",
       "      <td>76</td>\n",
       "      <td>622</td>\n",
       "      <td>5533</td>\n",
       "      <td>1381</td>\n",
       "      <td>260</td>\n",
       "      <td>27</td>\n",
       "      <td>136</td>\n",
       "      <td>404</td>\n",
       "      <td>1231</td>\n",
       "      <td>68</td>\n",
       "      <td>701</td>\n",
       "      <td>643</td>\n",
       "      <td>3.98</td>\n",
       "      <td>7</td>\n",
       "      <td>9</td>\n",
       "      <td>37</td>\n",
       "      <td>101</td>\n",
       "    </tr>\n",
       "    <tr>\n",
       "      <th>4</th>\n",
       "      <td>74</td>\n",
       "      <td>689</td>\n",
       "      <td>5605</td>\n",
       "      <td>1515</td>\n",
       "      <td>289</td>\n",
       "      <td>49</td>\n",
       "      <td>151</td>\n",
       "      <td>455</td>\n",
       "      <td>1259</td>\n",
       "      <td>83</td>\n",
       "      <td>803</td>\n",
       "      <td>746</td>\n",
       "      <td>4.64</td>\n",
       "      <td>7</td>\n",
       "      <td>12</td>\n",
       "      <td>35</td>\n",
       "      <td>86</td>\n",
       "    </tr>\n",
       "    <tr>\n",
       "      <th>6</th>\n",
       "      <td>87</td>\n",
       "      <td>764</td>\n",
       "      <td>5567</td>\n",
       "      <td>1397</td>\n",
       "      <td>272</td>\n",
       "      <td>19</td>\n",
       "      <td>212</td>\n",
       "      <td>554</td>\n",
       "      <td>1227</td>\n",
       "      <td>63</td>\n",
       "      <td>698</td>\n",
       "      <td>652</td>\n",
       "      <td>4.03</td>\n",
       "      <td>3</td>\n",
       "      <td>4</td>\n",
       "      <td>48</td>\n",
       "      <td>93</td>\n",
       "    </tr>\n",
       "    <tr>\n",
       "      <th>7</th>\n",
       "      <td>81</td>\n",
       "      <td>713</td>\n",
       "      <td>5485</td>\n",
       "      <td>1370</td>\n",
       "      <td>246</td>\n",
       "      <td>20</td>\n",
       "      <td>217</td>\n",
       "      <td>418</td>\n",
       "      <td>1331</td>\n",
       "      <td>44</td>\n",
       "      <td>693</td>\n",
       "      <td>646</td>\n",
       "      <td>4.05</td>\n",
       "      <td>0</td>\n",
       "      <td>10</td>\n",
       "      <td>43</td>\n",
       "      <td>77</td>\n",
       "    </tr>\n",
       "    <tr>\n",
       "      <th>8</th>\n",
       "      <td>80</td>\n",
       "      <td>644</td>\n",
       "      <td>5485</td>\n",
       "      <td>1383</td>\n",
       "      <td>278</td>\n",
       "      <td>32</td>\n",
       "      <td>167</td>\n",
       "      <td>436</td>\n",
       "      <td>1310</td>\n",
       "      <td>87</td>\n",
       "      <td>642</td>\n",
       "      <td>604</td>\n",
       "      <td>3.74</td>\n",
       "      <td>1</td>\n",
       "      <td>12</td>\n",
       "      <td>60</td>\n",
       "      <td>95</td>\n",
       "    </tr>\n",
       "    <tr>\n",
       "      <th>9</th>\n",
       "      <td>78</td>\n",
       "      <td>748</td>\n",
       "      <td>5640</td>\n",
       "      <td>1495</td>\n",
       "      <td>294</td>\n",
       "      <td>33</td>\n",
       "      <td>161</td>\n",
       "      <td>478</td>\n",
       "      <td>1148</td>\n",
       "      <td>71</td>\n",
       "      <td>753</td>\n",
       "      <td>694</td>\n",
       "      <td>4.31</td>\n",
       "      <td>3</td>\n",
       "      <td>10</td>\n",
       "      <td>40</td>\n",
       "      <td>97</td>\n",
       "    </tr>\n",
       "    <tr>\n",
       "      <th>10</th>\n",
       "      <td>88</td>\n",
       "      <td>751</td>\n",
       "      <td>5511</td>\n",
       "      <td>1419</td>\n",
       "      <td>279</td>\n",
       "      <td>32</td>\n",
       "      <td>172</td>\n",
       "      <td>503</td>\n",
       "      <td>1233</td>\n",
       "      <td>101</td>\n",
       "      <td>733</td>\n",
       "      <td>680</td>\n",
       "      <td>4.24</td>\n",
       "      <td>5</td>\n",
       "      <td>9</td>\n",
       "      <td>45</td>\n",
       "      <td>119</td>\n",
       "    </tr>\n",
       "    <tr>\n",
       "      <th>11</th>\n",
       "      <td>86</td>\n",
       "      <td>729</td>\n",
       "      <td>5459</td>\n",
       "      <td>1363</td>\n",
       "      <td>278</td>\n",
       "      <td>26</td>\n",
       "      <td>230</td>\n",
       "      <td>486</td>\n",
       "      <td>1392</td>\n",
       "      <td>121</td>\n",
       "      <td>618</td>\n",
       "      <td>572</td>\n",
       "      <td>3.57</td>\n",
       "      <td>5</td>\n",
       "      <td>13</td>\n",
       "      <td>39</td>\n",
       "      <td>85</td>\n",
       "    </tr>\n",
       "    <tr>\n",
       "      <th>12</th>\n",
       "      <td>85</td>\n",
       "      <td>661</td>\n",
       "      <td>5417</td>\n",
       "      <td>1331</td>\n",
       "      <td>243</td>\n",
       "      <td>21</td>\n",
       "      <td>176</td>\n",
       "      <td>435</td>\n",
       "      <td>1150</td>\n",
       "      <td>52</td>\n",
       "      <td>675</td>\n",
       "      <td>630</td>\n",
       "      <td>3.94</td>\n",
       "      <td>2</td>\n",
       "      <td>12</td>\n",
       "      <td>46</td>\n",
       "      <td>93</td>\n",
       "    </tr>\n",
       "    <tr>\n",
       "      <th>13</th>\n",
       "      <td>76</td>\n",
       "      <td>656</td>\n",
       "      <td>5544</td>\n",
       "      <td>1379</td>\n",
       "      <td>262</td>\n",
       "      <td>22</td>\n",
       "      <td>198</td>\n",
       "      <td>478</td>\n",
       "      <td>1336</td>\n",
       "      <td>69</td>\n",
       "      <td>726</td>\n",
       "      <td>677</td>\n",
       "      <td>4.16</td>\n",
       "      <td>6</td>\n",
       "      <td>12</td>\n",
       "      <td>45</td>\n",
       "      <td>94</td>\n",
       "    </tr>\n",
       "    <tr>\n",
       "      <th>14</th>\n",
       "      <td>68</td>\n",
       "      <td>694</td>\n",
       "      <td>5600</td>\n",
       "      <td>1405</td>\n",
       "      <td>277</td>\n",
       "      <td>46</td>\n",
       "      <td>146</td>\n",
       "      <td>475</td>\n",
       "      <td>1119</td>\n",
       "      <td>78</td>\n",
       "      <td>729</td>\n",
       "      <td>664</td>\n",
       "      <td>4.14</td>\n",
       "      <td>5</td>\n",
       "      <td>15</td>\n",
       "      <td>28</td>\n",
       "      <td>126</td>\n",
       "    </tr>\n",
       "    <tr>\n",
       "      <th>15</th>\n",
       "      <td>100</td>\n",
       "      <td>647</td>\n",
       "      <td>5484</td>\n",
       "      <td>1386</td>\n",
       "      <td>288</td>\n",
       "      <td>39</td>\n",
       "      <td>137</td>\n",
       "      <td>506</td>\n",
       "      <td>1267</td>\n",
       "      <td>69</td>\n",
       "      <td>525</td>\n",
       "      <td>478</td>\n",
       "      <td>2.94</td>\n",
       "      <td>1</td>\n",
       "      <td>15</td>\n",
       "      <td>62</td>\n",
       "      <td>96</td>\n",
       "    </tr>\n",
       "    <tr>\n",
       "      <th>16</th>\n",
       "      <td>98</td>\n",
       "      <td>697</td>\n",
       "      <td>5631</td>\n",
       "      <td>1462</td>\n",
       "      <td>292</td>\n",
       "      <td>27</td>\n",
       "      <td>140</td>\n",
       "      <td>461</td>\n",
       "      <td>1322</td>\n",
       "      <td>98</td>\n",
       "      <td>596</td>\n",
       "      <td>532</td>\n",
       "      <td>3.21</td>\n",
       "      <td>0</td>\n",
       "      <td>13</td>\n",
       "      <td>54</td>\n",
       "      <td>122</td>\n",
       "    </tr>\n",
       "    <tr>\n",
       "      <th>17</th>\n",
       "      <td>97</td>\n",
       "      <td>689</td>\n",
       "      <td>5491</td>\n",
       "      <td>1341</td>\n",
       "      <td>272</td>\n",
       "      <td>30</td>\n",
       "      <td>171</td>\n",
       "      <td>567</td>\n",
       "      <td>1518</td>\n",
       "      <td>95</td>\n",
       "      <td>608</td>\n",
       "      <td>546</td>\n",
       "      <td>3.36</td>\n",
       "      <td>6</td>\n",
       "      <td>21</td>\n",
       "      <td>48</td>\n",
       "      <td>111</td>\n",
       "    </tr>\n",
       "    <tr>\n",
       "      <th>18</th>\n",
       "      <td>68</td>\n",
       "      <td>655</td>\n",
       "      <td>5480</td>\n",
       "      <td>1378</td>\n",
       "      <td>274</td>\n",
       "      <td>34</td>\n",
       "      <td>145</td>\n",
       "      <td>412</td>\n",
       "      <td>1299</td>\n",
       "      <td>84</td>\n",
       "      <td>737</td>\n",
       "      <td>682</td>\n",
       "      <td>4.28</td>\n",
       "      <td>1</td>\n",
       "      <td>7</td>\n",
       "      <td>40</td>\n",
       "      <td>116</td>\n",
       "    </tr>\n",
       "    <tr>\n",
       "      <th>19</th>\n",
       "      <td>64</td>\n",
       "      <td>640</td>\n",
       "      <td>5571</td>\n",
       "      <td>1382</td>\n",
       "      <td>257</td>\n",
       "      <td>27</td>\n",
       "      <td>167</td>\n",
       "      <td>496</td>\n",
       "      <td>1255</td>\n",
       "      <td>134</td>\n",
       "      <td>754</td>\n",
       "      <td>700</td>\n",
       "      <td>4.33</td>\n",
       "      <td>2</td>\n",
       "      <td>8</td>\n",
       "      <td>35</td>\n",
       "      <td>90</td>\n",
       "    </tr>\n",
       "    <tr>\n",
       "      <th>20</th>\n",
       "      <td>90</td>\n",
       "      <td>683</td>\n",
       "      <td>5527</td>\n",
       "      <td>1351</td>\n",
       "      <td>295</td>\n",
       "      <td>17</td>\n",
       "      <td>177</td>\n",
       "      <td>488</td>\n",
       "      <td>1290</td>\n",
       "      <td>51</td>\n",
       "      <td>613</td>\n",
       "      <td>557</td>\n",
       "      <td>3.43</td>\n",
       "      <td>1</td>\n",
       "      <td>14</td>\n",
       "      <td>50</td>\n",
       "      <td>88</td>\n",
       "    </tr>\n",
       "    <tr>\n",
       "      <th>21</th>\n",
       "      <td>83</td>\n",
       "      <td>703</td>\n",
       "      <td>5428</td>\n",
       "      <td>1363</td>\n",
       "      <td>265</td>\n",
       "      <td>13</td>\n",
       "      <td>177</td>\n",
       "      <td>539</td>\n",
       "      <td>1344</td>\n",
       "      <td>57</td>\n",
       "      <td>635</td>\n",
       "      <td>577</td>\n",
       "      <td>3.62</td>\n",
       "      <td>4</td>\n",
       "      <td>13</td>\n",
       "      <td>41</td>\n",
       "      <td>90</td>\n",
       "    </tr>\n",
       "    <tr>\n",
       "      <th>22</th>\n",
       "      <td>71</td>\n",
       "      <td>613</td>\n",
       "      <td>5463</td>\n",
       "      <td>1420</td>\n",
       "      <td>236</td>\n",
       "      <td>40</td>\n",
       "      <td>120</td>\n",
       "      <td>375</td>\n",
       "      <td>1150</td>\n",
       "      <td>112</td>\n",
       "      <td>678</td>\n",
       "      <td>638</td>\n",
       "      <td>4.02</td>\n",
       "      <td>0</td>\n",
       "      <td>12</td>\n",
       "      <td>35</td>\n",
       "      <td>77</td>\n",
       "    </tr>\n",
       "    <tr>\n",
       "      <th>23</th>\n",
       "      <td>67</td>\n",
       "      <td>573</td>\n",
       "      <td>5420</td>\n",
       "      <td>1361</td>\n",
       "      <td>251</td>\n",
       "      <td>18</td>\n",
       "      <td>100</td>\n",
       "      <td>471</td>\n",
       "      <td>1107</td>\n",
       "      <td>69</td>\n",
       "      <td>760</td>\n",
       "      <td>698</td>\n",
       "      <td>4.41</td>\n",
       "      <td>3</td>\n",
       "      <td>10</td>\n",
       "      <td>44</td>\n",
       "      <td>90</td>\n",
       "    </tr>\n",
       "    <tr>\n",
       "      <th>24</th>\n",
       "      <td>63</td>\n",
       "      <td>626</td>\n",
       "      <td>5529</td>\n",
       "      <td>1374</td>\n",
       "      <td>272</td>\n",
       "      <td>37</td>\n",
       "      <td>130</td>\n",
       "      <td>387</td>\n",
       "      <td>1274</td>\n",
       "      <td>88</td>\n",
       "      <td>809</td>\n",
       "      <td>749</td>\n",
       "      <td>4.69</td>\n",
       "      <td>1</td>\n",
       "      <td>7</td>\n",
       "      <td>35</td>\n",
       "      <td>117</td>\n",
       "    </tr>\n",
       "    <tr>\n",
       "      <th>25</th>\n",
       "      <td>92</td>\n",
       "      <td>667</td>\n",
       "      <td>5385</td>\n",
       "      <td>1346</td>\n",
       "      <td>263</td>\n",
       "      <td>26</td>\n",
       "      <td>187</td>\n",
       "      <td>563</td>\n",
       "      <td>1258</td>\n",
       "      <td>59</td>\n",
       "      <td>595</td>\n",
       "      <td>553</td>\n",
       "      <td>3.44</td>\n",
       "      <td>6</td>\n",
       "      <td>21</td>\n",
       "      <td>47</td>\n",
       "      <td>75</td>\n",
       "    </tr>\n",
       "    <tr>\n",
       "      <th>26</th>\n",
       "      <td>84</td>\n",
       "      <td>696</td>\n",
       "      <td>5565</td>\n",
       "      <td>1486</td>\n",
       "      <td>288</td>\n",
       "      <td>39</td>\n",
       "      <td>136</td>\n",
       "      <td>457</td>\n",
       "      <td>1159</td>\n",
       "      <td>93</td>\n",
       "      <td>627</td>\n",
       "      <td>597</td>\n",
       "      <td>3.72</td>\n",
       "      <td>7</td>\n",
       "      <td>18</td>\n",
       "      <td>41</td>\n",
       "      <td>78</td>\n",
       "    </tr>\n",
       "    <tr>\n",
       "      <th>27</th>\n",
       "      <td>79</td>\n",
       "      <td>720</td>\n",
       "      <td>5649</td>\n",
       "      <td>1494</td>\n",
       "      <td>289</td>\n",
       "      <td>48</td>\n",
       "      <td>154</td>\n",
       "      <td>490</td>\n",
       "      <td>1312</td>\n",
       "      <td>132</td>\n",
       "      <td>713</td>\n",
       "      <td>659</td>\n",
       "      <td>4.04</td>\n",
       "      <td>1</td>\n",
       "      <td>12</td>\n",
       "      <td>44</td>\n",
       "      <td>86</td>\n",
       "    </tr>\n",
       "    <tr>\n",
       "      <th>28</th>\n",
       "      <td>74</td>\n",
       "      <td>650</td>\n",
       "      <td>5457</td>\n",
       "      <td>1324</td>\n",
       "      <td>260</td>\n",
       "      <td>36</td>\n",
       "      <td>148</td>\n",
       "      <td>426</td>\n",
       "      <td>1327</td>\n",
       "      <td>82</td>\n",
       "      <td>731</td>\n",
       "      <td>655</td>\n",
       "      <td>4.09</td>\n",
       "      <td>1</td>\n",
       "      <td>6</td>\n",
       "      <td>41</td>\n",
       "      <td>92</td>\n",
       "    </tr>\n",
       "    <tr>\n",
       "      <th>29</th>\n",
       "      <td>68</td>\n",
       "      <td>737</td>\n",
       "      <td>5572</td>\n",
       "      <td>1479</td>\n",
       "      <td>274</td>\n",
       "      <td>49</td>\n",
       "      <td>186</td>\n",
       "      <td>388</td>\n",
       "      <td>1283</td>\n",
       "      <td>97</td>\n",
       "      <td>844</td>\n",
       "      <td>799</td>\n",
       "      <td>5.04</td>\n",
       "      <td>4</td>\n",
       "      <td>4</td>\n",
       "      <td>36</td>\n",
       "      <td>95</td>\n",
       "    </tr>\n",
       "  </tbody>\n",
       "</table>\n",
       "</div>"
      ],
      "text/plain": [
       "      W    R    AB     H   2B  3B   HR   BB    SO   SB   RA   ER   ERA  CG  \\\n",
       "0    95  724  5575  1497  300  42  139  383   973  104  641  601  3.73   2   \n",
       "1    83  696  5467  1349  277  44  156  439  1264   70  700  653  4.07   2   \n",
       "2    81  669  5439  1395  303  29  141  533  1157   86  640  584  3.67  11   \n",
       "3    76  622  5533  1381  260  27  136  404  1231   68  701  643  3.98   7   \n",
       "4    74  689  5605  1515  289  49  151  455  1259   83  803  746  4.64   7   \n",
       "6    87  764  5567  1397  272  19  212  554  1227   63  698  652  4.03   3   \n",
       "7    81  713  5485  1370  246  20  217  418  1331   44  693  646  4.05   0   \n",
       "8    80  644  5485  1383  278  32  167  436  1310   87  642  604  3.74   1   \n",
       "9    78  748  5640  1495  294  33  161  478  1148   71  753  694  4.31   3   \n",
       "10   88  751  5511  1419  279  32  172  503  1233  101  733  680  4.24   5   \n",
       "11   86  729  5459  1363  278  26  230  486  1392  121  618  572  3.57   5   \n",
       "12   85  661  5417  1331  243  21  176  435  1150   52  675  630  3.94   2   \n",
       "13   76  656  5544  1379  262  22  198  478  1336   69  726  677  4.16   6   \n",
       "14   68  694  5600  1405  277  46  146  475  1119   78  729  664  4.14   5   \n",
       "15  100  647  5484  1386  288  39  137  506  1267   69  525  478  2.94   1   \n",
       "16   98  697  5631  1462  292  27  140  461  1322   98  596  532  3.21   0   \n",
       "17   97  689  5491  1341  272  30  171  567  1518   95  608  546  3.36   6   \n",
       "18   68  655  5480  1378  274  34  145  412  1299   84  737  682  4.28   1   \n",
       "19   64  640  5571  1382  257  27  167  496  1255  134  754  700  4.33   2   \n",
       "20   90  683  5527  1351  295  17  177  488  1290   51  613  557  3.43   1   \n",
       "21   83  703  5428  1363  265  13  177  539  1344   57  635  577  3.62   4   \n",
       "22   71  613  5463  1420  236  40  120  375  1150  112  678  638  4.02   0   \n",
       "23   67  573  5420  1361  251  18  100  471  1107   69  760  698  4.41   3   \n",
       "24   63  626  5529  1374  272  37  130  387  1274   88  809  749  4.69   1   \n",
       "25   92  667  5385  1346  263  26  187  563  1258   59  595  553  3.44   6   \n",
       "26   84  696  5565  1486  288  39  136  457  1159   93  627  597  3.72   7   \n",
       "27   79  720  5649  1494  289  48  154  490  1312  132  713  659  4.04   1   \n",
       "28   74  650  5457  1324  260  36  148  426  1327   82  731  655  4.09   1   \n",
       "29   68  737  5572  1479  274  49  186  388  1283   97  844  799  5.04   4   \n",
       "\n",
       "    SHO  SV    E  \n",
       "0     8  56   88  \n",
       "1    12  45   86  \n",
       "2    10  38   79  \n",
       "3     9  37  101  \n",
       "4    12  35   86  \n",
       "6     4  48   93  \n",
       "7    10  43   77  \n",
       "8    12  60   95  \n",
       "9    10  40   97  \n",
       "10    9  45  119  \n",
       "11   13  39   85  \n",
       "12   12  46   93  \n",
       "13   12  45   94  \n",
       "14   15  28  126  \n",
       "15   15  62   96  \n",
       "16   13  54  122  \n",
       "17   21  48  111  \n",
       "18    7  40  116  \n",
       "19    8  35   90  \n",
       "20   14  50   88  \n",
       "21   13  41   90  \n",
       "22   12  35   77  \n",
       "23   10  44   90  \n",
       "24    7  35  117  \n",
       "25   21  47   75  \n",
       "26   18  41   78  \n",
       "27   12  44   86  \n",
       "28    6  41   92  \n",
       "29    4  36   95  "
      ]
     },
     "execution_count": 139,
     "metadata": {},
     "output_type": "execute_result"
    }
   ],
   "source": [
    "from scipy.stats import zscore\n",
    "z=np.abs(zscore(features))\n",
    "df_new=df[(z<3).all(axis=1)]\n",
    "df_new"
   ]
  },
  {
   "cell_type": "markdown",
   "id": "39f57a40",
   "metadata": {},
   "source": [
    "Hence, outliers have been removed"
   ]
  },
  {
   "cell_type": "code",
   "execution_count": 140,
   "id": "e68b9211",
   "metadata": {},
   "outputs": [
    {
     "data": {
      "text/plain": [
       "(29, 17)"
      ]
     },
     "execution_count": 140,
     "metadata": {},
     "output_type": "execute_result"
    }
   ],
   "source": [
    "df_new.shape"
   ]
  },
  {
   "cell_type": "markdown",
   "id": "b6f3ddf7",
   "metadata": {},
   "source": [
    "after removing we have 29 rows and 17 columns"
   ]
  },
  {
   "cell_type": "markdown",
   "id": "d8bcac6f",
   "metadata": {},
   "source": [
    "# Checking for skewness"
   ]
  },
  {
   "cell_type": "code",
   "execution_count": null,
   "id": "0710d74c",
   "metadata": {},
   "outputs": [],
   "source": []
  },
  {
   "cell_type": "code",
   "execution_count": 141,
   "id": "73e2a064",
   "metadata": {},
   "outputs": [
    {
     "data": {
      "text/plain": [
       "W      0.119013\n",
       "R     -0.215364\n",
       "AB     0.169573\n",
       "H      0.783772\n",
       "2B    -0.335304\n",
       "3B     0.090124\n",
       "HR     0.450862\n",
       "BB     0.151193\n",
       "SO    -0.233815\n",
       "SB     0.494966\n",
       "RA     0.018155\n",
       "ER     0.018461\n",
       "ERA    0.016693\n",
       "CG     0.854980\n",
       "SHO    0.526943\n",
       "SV     0.627480\n",
       "E      0.840271\n",
       "dtype: float64"
      ]
     },
     "execution_count": 141,
     "metadata": {},
     "output_type": "execute_result"
    }
   ],
   "source": [
    "df_new.skew()"
   ]
  },
  {
   "cell_type": "markdown",
   "id": "6e7b181a",
   "metadata": {},
   "source": [
    "Hence H, CG, SV,SHO, E have skewness"
   ]
  },
  {
   "cell_type": "markdown",
   "id": "1b7c5ce9",
   "metadata": {},
   "source": [
    "Removing Skewness"
   ]
  },
  {
   "cell_type": "code",
   "execution_count": 142,
   "id": "e7783381",
   "metadata": {},
   "outputs": [],
   "source": [
    "skew=['H', 'CG', 'SV', 'SHO', 'E']"
   ]
  },
  {
   "cell_type": "code",
   "execution_count": 143,
   "id": "cf9e15ee",
   "metadata": {},
   "outputs": [],
   "source": [
    "df_new['H']=np.log1p(df_new['H'])"
   ]
  },
  {
   "cell_type": "markdown",
   "id": "d2cda4f2",
   "metadata": {},
   "source": [
    "skewness in H is removed"
   ]
  },
  {
   "cell_type": "code",
   "execution_count": 144,
   "id": "86565fa7",
   "metadata": {},
   "outputs": [],
   "source": [
    "from sklearn.preprocessing import PowerTransformer"
   ]
  },
  {
   "cell_type": "code",
   "execution_count": 145,
   "id": "e034b9a0",
   "metadata": {},
   "outputs": [],
   "source": [
    "scaler= PowerTransformer(method='yeo-johnson')\n",
    "df_new[['CG', 'SV', 'SHO', 'E']]=scaler.fit_transform(df_new[['CG', 'SV', 'SHO', 'E']].values)"
   ]
  },
  {
   "cell_type": "code",
   "execution_count": 146,
   "id": "78411969",
   "metadata": {},
   "outputs": [
    {
     "data": {
      "text/plain": [
       "W      0.119013\n",
       "R     -0.215364\n",
       "AB     0.169573\n",
       "H      0.738455\n",
       "2B    -0.335304\n",
       "3B     0.090124\n",
       "HR     0.450862\n",
       "BB     0.151193\n",
       "SO    -0.233815\n",
       "SB     0.494966\n",
       "RA     0.018155\n",
       "ER     0.018461\n",
       "ERA    0.016693\n",
       "CG    -0.045947\n",
       "SHO    0.000529\n",
       "SV    -0.000925\n",
       "E      0.065585\n",
       "dtype: float64"
      ]
     },
     "execution_count": 146,
     "metadata": {},
     "output_type": "execute_result"
    }
   ],
   "source": [
    "df_new.skew()"
   ]
  },
  {
   "cell_type": "code",
   "execution_count": 147,
   "id": "1f2af470",
   "metadata": {},
   "outputs": [
    {
     "data": {
      "image/png": "[encoded data removed]",
      "text/plain": [
       "<Figure size 1440x2160 with 5 Axes>"
      ]
     },
     "metadata": {},
     "output_type": "display_data"
    }
   ],
   "source": [
    "plt.figure(figsize=(20,30), facecolor= 'white')\n",
    "plotnumber=1\n",
    "\n",
    "for column in df_new[skew]:\n",
    "    if plotnumber <=10:\n",
    "        ax= plt.subplot(4,4, plotnumber)\n",
    "        sns.distplot(df_new[column])\n",
    "        plt.xlabel(column, fontsize=30)\n",
    "\n",
    "        \n",
    "        \n",
    "    plotnumber +=1\n",
    "plt.show()"
   ]
  },
  {
   "cell_type": "markdown",
   "id": "975adcb6",
   "metadata": {},
   "source": [
    "Skewness is removed"
   ]
  },
  {
   "cell_type": "markdown",
   "id": "653f97ea",
   "metadata": {},
   "source": [
    "Splitting the columns into x and y"
   ]
  },
  {
   "cell_type": "code",
   "execution_count": 148,
   "id": "866f3539",
   "metadata": {},
   "outputs": [],
   "source": [
    "x=df_new.drop('W', axis=1)\n",
    "y=df_new['W']"
   ]
  },
  {
   "cell_type": "code",
   "execution_count": 149,
   "id": "39e9b9d5",
   "metadata": {},
   "outputs": [
    {
     "data": {
      "text/html": [
       "<div>\n",
       "<style scoped>\n",
       "    .dataframe tbody tr th:only-of-type {\n",
       "        vertical-align: middle;\n",
       "    }\n",
       "\n",
       "    .dataframe tbody tr th {\n",
       "        vertical-align: top;\n",
       "    }\n",
       "\n",
       "    .dataframe thead th {\n",
       "        text-align: right;\n",
       "    }\n",
       "</style>\n",
       "<table border=\"1\" class=\"dataframe\">\n",
       "  <thead>\n",
       "    <tr style=\"text-align: right;\">\n",
       "      <th></th>\n",
       "      <th>R</th>\n",
       "      <th>AB</th>\n",
       "      <th>H</th>\n",
       "      <th>2B</th>\n",
       "      <th>3B</th>\n",
       "      <th>HR</th>\n",
       "      <th>BB</th>\n",
       "      <th>SO</th>\n",
       "      <th>SB</th>\n",
       "      <th>RA</th>\n",
       "      <th>ER</th>\n",
       "      <th>ERA</th>\n",
       "      <th>CG</th>\n",
       "      <th>SHO</th>\n",
       "      <th>SV</th>\n",
       "      <th>E</th>\n",
       "    </tr>\n",
       "  </thead>\n",
       "  <tbody>\n",
       "    <tr>\n",
       "      <th>0</th>\n",
       "      <td>724</td>\n",
       "      <td>5575</td>\n",
       "      <td>7.311886</td>\n",
       "      <td>300</td>\n",
       "      <td>42</td>\n",
       "      <td>139</td>\n",
       "      <td>383</td>\n",
       "      <td>973</td>\n",
       "      <td>104</td>\n",
       "      <td>641</td>\n",
       "      <td>601</td>\n",
       "      <td>3.73</td>\n",
       "      <td>-0.307098</td>\n",
       "      <td>-0.787002</td>\n",
       "      <td>1.532753</td>\n",
       "      <td>-0.348265</td>\n",
       "    </tr>\n",
       "    <tr>\n",
       "      <th>1</th>\n",
       "      <td>696</td>\n",
       "      <td>5467</td>\n",
       "      <td>7.207860</td>\n",
       "      <td>277</td>\n",
       "      <td>44</td>\n",
       "      <td>156</td>\n",
       "      <td>439</td>\n",
       "      <td>1264</td>\n",
       "      <td>70</td>\n",
       "      <td>700</td>\n",
       "      <td>653</td>\n",
       "      <td>4.07</td>\n",
       "      <td>-0.307098</td>\n",
       "      <td>0.236737</td>\n",
       "      <td>0.312020</td>\n",
       "      <td>-0.540820</td>\n",
       "    </tr>\n",
       "    <tr>\n",
       "      <th>2</th>\n",
       "      <td>669</td>\n",
       "      <td>5439</td>\n",
       "      <td>7.241366</td>\n",
       "      <td>303</td>\n",
       "      <td>29</td>\n",
       "      <td>141</td>\n",
       "      <td>533</td>\n",
       "      <td>1157</td>\n",
       "      <td>86</td>\n",
       "      <td>640</td>\n",
       "      <td>584</td>\n",
       "      <td>3.67</td>\n",
       "      <td>2.011315</td>\n",
       "      <td>-0.252844</td>\n",
       "      <td>-0.664137</td>\n",
       "      <td>-1.326125</td>\n",
       "    </tr>\n",
       "    <tr>\n",
       "      <th>3</th>\n",
       "      <td>622</td>\n",
       "      <td>5533</td>\n",
       "      <td>7.231287</td>\n",
       "      <td>260</td>\n",
       "      <td>27</td>\n",
       "      <td>136</td>\n",
       "      <td>404</td>\n",
       "      <td>1231</td>\n",
       "      <td>68</td>\n",
       "      <td>701</td>\n",
       "      <td>643</td>\n",
       "      <td>3.98</td>\n",
       "      <td>1.264463</td>\n",
       "      <td>-0.513555</td>\n",
       "      <td>-0.820689</td>\n",
       "      <td>0.650818</td>\n",
       "    </tr>\n",
       "    <tr>\n",
       "      <th>4</th>\n",
       "      <td>689</td>\n",
       "      <td>5605</td>\n",
       "      <td>7.323831</td>\n",
       "      <td>289</td>\n",
       "      <td>49</td>\n",
       "      <td>151</td>\n",
       "      <td>455</td>\n",
       "      <td>1259</td>\n",
       "      <td>83</td>\n",
       "      <td>803</td>\n",
       "      <td>746</td>\n",
       "      <td>4.64</td>\n",
       "      <td>1.264463</td>\n",
       "      <td>0.236737</td>\n",
       "      <td>-1.149165</td>\n",
       "      <td>-0.540820</td>\n",
       "    </tr>\n",
       "    <tr>\n",
       "      <th>6</th>\n",
       "      <td>764</td>\n",
       "      <td>5567</td>\n",
       "      <td>7.242798</td>\n",
       "      <td>272</td>\n",
       "      <td>19</td>\n",
       "      <td>212</td>\n",
       "      <td>554</td>\n",
       "      <td>1227</td>\n",
       "      <td>63</td>\n",
       "      <td>698</td>\n",
       "      <td>652</td>\n",
       "      <td>4.03</td>\n",
       "      <td>0.121871</td>\n",
       "      <td>-2.064039</td>\n",
       "      <td>0.677176</td>\n",
       "      <td>0.082858</td>\n",
       "    </tr>\n",
       "    <tr>\n",
       "      <th>7</th>\n",
       "      <td>713</td>\n",
       "      <td>5485</td>\n",
       "      <td>7.223296</td>\n",
       "      <td>246</td>\n",
       "      <td>20</td>\n",
       "      <td>217</td>\n",
       "      <td>418</td>\n",
       "      <td>1331</td>\n",
       "      <td>44</td>\n",
       "      <td>693</td>\n",
       "      <td>646</td>\n",
       "      <td>4.05</td>\n",
       "      <td>-1.732896</td>\n",
       "      <td>-0.252844</td>\n",
       "      <td>0.052325</td>\n",
       "      <td>-1.588197</td>\n",
       "    </tr>\n",
       "    <tr>\n",
       "      <th>8</th>\n",
       "      <td>644</td>\n",
       "      <td>5485</td>\n",
       "      <td>7.232733</td>\n",
       "      <td>278</td>\n",
       "      <td>32</td>\n",
       "      <td>167</td>\n",
       "      <td>436</td>\n",
       "      <td>1310</td>\n",
       "      <td>87</td>\n",
       "      <td>642</td>\n",
       "      <td>604</td>\n",
       "      <td>3.74</td>\n",
       "      <td>-0.870682</td>\n",
       "      <td>0.236737</td>\n",
       "      <td>1.908137</td>\n",
       "      <td>0.237592</td>\n",
       "    </tr>\n",
       "    <tr>\n",
       "      <th>9</th>\n",
       "      <td>748</td>\n",
       "      <td>5640</td>\n",
       "      <td>7.310550</td>\n",
       "      <td>294</td>\n",
       "      <td>33</td>\n",
       "      <td>161</td>\n",
       "      <td>478</td>\n",
       "      <td>1148</td>\n",
       "      <td>71</td>\n",
       "      <td>753</td>\n",
       "      <td>694</td>\n",
       "      <td>4.31</td>\n",
       "      <td>0.121871</td>\n",
       "      <td>-0.252844</td>\n",
       "      <td>-0.365006</td>\n",
       "      <td>0.383386</td>\n",
       "    </tr>\n",
       "    <tr>\n",
       "      <th>10</th>\n",
       "      <td>751</td>\n",
       "      <td>5511</td>\n",
       "      <td>7.258412</td>\n",
       "      <td>279</td>\n",
       "      <td>32</td>\n",
       "      <td>172</td>\n",
       "      <td>503</td>\n",
       "      <td>1233</td>\n",
       "      <td>101</td>\n",
       "      <td>733</td>\n",
       "      <td>680</td>\n",
       "      <td>4.24</td>\n",
       "      <td>0.770649</td>\n",
       "      <td>-0.513555</td>\n",
       "      <td>0.312020</td>\n",
       "      <td>1.554265</td>\n",
       "    </tr>\n",
       "    <tr>\n",
       "      <th>11</th>\n",
       "      <td>729</td>\n",
       "      <td>5459</td>\n",
       "      <td>7.218177</td>\n",
       "      <td>278</td>\n",
       "      <td>26</td>\n",
       "      <td>230</td>\n",
       "      <td>486</td>\n",
       "      <td>1392</td>\n",
       "      <td>121</td>\n",
       "      <td>618</td>\n",
       "      <td>572</td>\n",
       "      <td>3.57</td>\n",
       "      <td>0.770649</td>\n",
       "      <td>0.468029</td>\n",
       "      <td>-0.512328</td>\n",
       "      <td>-0.641926</td>\n",
       "    </tr>\n",
       "    <tr>\n",
       "      <th>12</th>\n",
       "      <td>661</td>\n",
       "      <td>5417</td>\n",
       "      <td>7.194437</td>\n",
       "      <td>243</td>\n",
       "      <td>21</td>\n",
       "      <td>176</td>\n",
       "      <td>435</td>\n",
       "      <td>1150</td>\n",
       "      <td>52</td>\n",
       "      <td>675</td>\n",
       "      <td>630</td>\n",
       "      <td>3.94</td>\n",
       "      <td>-0.307098</td>\n",
       "      <td>0.236737</td>\n",
       "      <td>0.436838</td>\n",
       "      <td>0.082858</td>\n",
       "    </tr>\n",
       "    <tr>\n",
       "      <th>13</th>\n",
       "      <td>656</td>\n",
       "      <td>5544</td>\n",
       "      <td>7.229839</td>\n",
       "      <td>262</td>\n",
       "      <td>22</td>\n",
       "      <td>198</td>\n",
       "      <td>478</td>\n",
       "      <td>1336</td>\n",
       "      <td>69</td>\n",
       "      <td>726</td>\n",
       "      <td>677</td>\n",
       "      <td>4.16</td>\n",
       "      <td>1.031663</td>\n",
       "      <td>0.236737</td>\n",
       "      <td>0.312020</td>\n",
       "      <td>0.161388</td>\n",
       "    </tr>\n",
       "    <tr>\n",
       "      <th>14</th>\n",
       "      <td>694</td>\n",
       "      <td>5600</td>\n",
       "      <td>7.248504</td>\n",
       "      <td>277</td>\n",
       "      <td>46</td>\n",
       "      <td>146</td>\n",
       "      <td>475</td>\n",
       "      <td>1119</td>\n",
       "      <td>78</td>\n",
       "      <td>729</td>\n",
       "      <td>664</td>\n",
       "      <td>4.14</td>\n",
       "      <td>0.770649</td>\n",
       "      <td>0.908147</td>\n",
       "      <td>-2.498840</td>\n",
       "      <td>1.810553</td>\n",
       "    </tr>\n",
       "    <tr>\n",
       "      <th>15</th>\n",
       "      <td>647</td>\n",
       "      <td>5484</td>\n",
       "      <td>7.234898</td>\n",
       "      <td>288</td>\n",
       "      <td>39</td>\n",
       "      <td>137</td>\n",
       "      <td>506</td>\n",
       "      <td>1267</td>\n",
       "      <td>69</td>\n",
       "      <td>525</td>\n",
       "      <td>478</td>\n",
       "      <td>2.94</td>\n",
       "      <td>-0.870682</td>\n",
       "      <td>0.908147</td>\n",
       "      <td>2.084917</td>\n",
       "      <td>0.311562</td>\n",
       "    </tr>\n",
       "    <tr>\n",
       "      <th>16</th>\n",
       "      <td>697</td>\n",
       "      <td>5631</td>\n",
       "      <td>7.288244</td>\n",
       "      <td>292</td>\n",
       "      <td>27</td>\n",
       "      <td>140</td>\n",
       "      <td>461</td>\n",
       "      <td>1322</td>\n",
       "      <td>98</td>\n",
       "      <td>596</td>\n",
       "      <td>532</td>\n",
       "      <td>3.21</td>\n",
       "      <td>-1.732896</td>\n",
       "      <td>0.468029</td>\n",
       "      <td>1.333006</td>\n",
       "      <td>1.669209</td>\n",
       "    </tr>\n",
       "    <tr>\n",
       "      <th>17</th>\n",
       "      <td>689</td>\n",
       "      <td>5491</td>\n",
       "      <td>7.201916</td>\n",
       "      <td>272</td>\n",
       "      <td>30</td>\n",
       "      <td>171</td>\n",
       "      <td>567</td>\n",
       "      <td>1518</td>\n",
       "      <td>95</td>\n",
       "      <td>608</td>\n",
       "      <td>546</td>\n",
       "      <td>3.36</td>\n",
       "      <td>1.031663</td>\n",
       "      <td>2.090856</td>\n",
       "      <td>0.677176</td>\n",
       "      <td>1.203715</td>\n",
       "    </tr>\n",
       "    <tr>\n",
       "      <th>18</th>\n",
       "      <td>655</td>\n",
       "      <td>5480</td>\n",
       "      <td>7.229114</td>\n",
       "      <td>274</td>\n",
       "      <td>34</td>\n",
       "      <td>145</td>\n",
       "      <td>412</td>\n",
       "      <td>1299</td>\n",
       "      <td>84</td>\n",
       "      <td>737</td>\n",
       "      <td>682</td>\n",
       "      <td>4.28</td>\n",
       "      <td>-0.870682</td>\n",
       "      <td>-1.075340</td>\n",
       "      <td>-0.365006</td>\n",
       "      <td>1.430810</td>\n",
       "    </tr>\n",
       "    <tr>\n",
       "      <th>19</th>\n",
       "      <td>640</td>\n",
       "      <td>5571</td>\n",
       "      <td>7.232010</td>\n",
       "      <td>257</td>\n",
       "      <td>27</td>\n",
       "      <td>167</td>\n",
       "      <td>496</td>\n",
       "      <td>1255</td>\n",
       "      <td>134</td>\n",
       "      <td>754</td>\n",
       "      <td>700</td>\n",
       "      <td>4.33</td>\n",
       "      <td>-0.307098</td>\n",
       "      <td>-0.787002</td>\n",
       "      <td>-1.149165</td>\n",
       "      <td>-0.167685</td>\n",
       "    </tr>\n",
       "    <tr>\n",
       "      <th>20</th>\n",
       "      <td>683</td>\n",
       "      <td>5527</td>\n",
       "      <td>7.209340</td>\n",
       "      <td>295</td>\n",
       "      <td>17</td>\n",
       "      <td>177</td>\n",
       "      <td>488</td>\n",
       "      <td>1290</td>\n",
       "      <td>51</td>\n",
       "      <td>613</td>\n",
       "      <td>557</td>\n",
       "      <td>3.43</td>\n",
       "      <td>-0.870682</td>\n",
       "      <td>0.691583</td>\n",
       "      <td>0.906024</td>\n",
       "      <td>-0.348265</td>\n",
       "    </tr>\n",
       "    <tr>\n",
       "      <th>21</th>\n",
       "      <td>703</td>\n",
       "      <td>5428</td>\n",
       "      <td>7.218177</td>\n",
       "      <td>265</td>\n",
       "      <td>13</td>\n",
       "      <td>177</td>\n",
       "      <td>539</td>\n",
       "      <td>1344</td>\n",
       "      <td>57</td>\n",
       "      <td>635</td>\n",
       "      <td>577</td>\n",
       "      <td>3.62</td>\n",
       "      <td>0.472300</td>\n",
       "      <td>0.468029</td>\n",
       "      <td>-0.221934</td>\n",
       "      <td>-0.167685</td>\n",
       "    </tr>\n",
       "    <tr>\n",
       "      <th>22</th>\n",
       "      <td>613</td>\n",
       "      <td>5463</td>\n",
       "      <td>7.259116</td>\n",
       "      <td>236</td>\n",
       "      <td>40</td>\n",
       "      <td>120</td>\n",
       "      <td>375</td>\n",
       "      <td>1150</td>\n",
       "      <td>112</td>\n",
       "      <td>678</td>\n",
       "      <td>638</td>\n",
       "      <td>4.02</td>\n",
       "      <td>-1.732896</td>\n",
       "      <td>0.236737</td>\n",
       "      <td>-1.149165</td>\n",
       "      <td>-1.588197</td>\n",
       "    </tr>\n",
       "    <tr>\n",
       "      <th>23</th>\n",
       "      <td>573</td>\n",
       "      <td>5420</td>\n",
       "      <td>7.216709</td>\n",
       "      <td>251</td>\n",
       "      <td>18</td>\n",
       "      <td>100</td>\n",
       "      <td>471</td>\n",
       "      <td>1107</td>\n",
       "      <td>69</td>\n",
       "      <td>760</td>\n",
       "      <td>698</td>\n",
       "      <td>4.41</td>\n",
       "      <td>0.121871</td>\n",
       "      <td>-0.252844</td>\n",
       "      <td>0.183904</td>\n",
       "      <td>-0.167685</td>\n",
       "    </tr>\n",
       "    <tr>\n",
       "      <th>24</th>\n",
       "      <td>626</td>\n",
       "      <td>5529</td>\n",
       "      <td>7.226209</td>\n",
       "      <td>272</td>\n",
       "      <td>37</td>\n",
       "      <td>130</td>\n",
       "      <td>387</td>\n",
       "      <td>1274</td>\n",
       "      <td>88</td>\n",
       "      <td>809</td>\n",
       "      <td>749</td>\n",
       "      <td>4.69</td>\n",
       "      <td>-0.870682</td>\n",
       "      <td>-1.075340</td>\n",
       "      <td>-1.149165</td>\n",
       "      <td>1.472959</td>\n",
       "    </tr>\n",
       "    <tr>\n",
       "      <th>25</th>\n",
       "      <td>667</td>\n",
       "      <td>5385</td>\n",
       "      <td>7.205635</td>\n",
       "      <td>263</td>\n",
       "      <td>26</td>\n",
       "      <td>187</td>\n",
       "      <td>563</td>\n",
       "      <td>1258</td>\n",
       "      <td>59</td>\n",
       "      <td>595</td>\n",
       "      <td>553</td>\n",
       "      <td>3.44</td>\n",
       "      <td>1.031663</td>\n",
       "      <td>2.090856</td>\n",
       "      <td>0.558509</td>\n",
       "      <td>-1.870191</td>\n",
       "    </tr>\n",
       "    <tr>\n",
       "      <th>26</th>\n",
       "      <td>696</td>\n",
       "      <td>5565</td>\n",
       "      <td>7.304516</td>\n",
       "      <td>288</td>\n",
       "      <td>39</td>\n",
       "      <td>136</td>\n",
       "      <td>457</td>\n",
       "      <td>1159</td>\n",
       "      <td>93</td>\n",
       "      <td>627</td>\n",
       "      <td>597</td>\n",
       "      <td>3.72</td>\n",
       "      <td>1.264463</td>\n",
       "      <td>1.521828</td>\n",
       "      <td>-0.221934</td>\n",
       "      <td>-1.454792</td>\n",
       "    </tr>\n",
       "    <tr>\n",
       "      <th>27</th>\n",
       "      <td>720</td>\n",
       "      <td>5649</td>\n",
       "      <td>7.309881</td>\n",
       "      <td>289</td>\n",
       "      <td>48</td>\n",
       "      <td>154</td>\n",
       "      <td>490</td>\n",
       "      <td>1312</td>\n",
       "      <td>132</td>\n",
       "      <td>713</td>\n",
       "      <td>659</td>\n",
       "      <td>4.04</td>\n",
       "      <td>-0.870682</td>\n",
       "      <td>0.236737</td>\n",
       "      <td>0.183904</td>\n",
       "      <td>-0.540820</td>\n",
       "    </tr>\n",
       "    <tr>\n",
       "      <th>28</th>\n",
       "      <td>650</td>\n",
       "      <td>5457</td>\n",
       "      <td>7.189168</td>\n",
       "      <td>260</td>\n",
       "      <td>36</td>\n",
       "      <td>148</td>\n",
       "      <td>426</td>\n",
       "      <td>1327</td>\n",
       "      <td>82</td>\n",
       "      <td>731</td>\n",
       "      <td>655</td>\n",
       "      <td>4.09</td>\n",
       "      <td>-0.870682</td>\n",
       "      <td>-1.381412</td>\n",
       "      <td>-0.221934</td>\n",
       "      <td>0.001905</td>\n",
       "    </tr>\n",
       "    <tr>\n",
       "      <th>29</th>\n",
       "      <td>737</td>\n",
       "      <td>5572</td>\n",
       "      <td>7.299797</td>\n",
       "      <td>274</td>\n",
       "      <td>49</td>\n",
       "      <td>186</td>\n",
       "      <td>388</td>\n",
       "      <td>1283</td>\n",
       "      <td>97</td>\n",
       "      <td>844</td>\n",
       "      <td>799</td>\n",
       "      <td>5.04</td>\n",
       "      <td>0.472300</td>\n",
       "      <td>-2.064039</td>\n",
       "      <td>-0.982264</td>\n",
       "      <td>0.237592</td>\n",
       "    </tr>\n",
       "  </tbody>\n",
       "</table>\n",
       "</div>"
      ],
      "text/plain": [
       "      R    AB         H   2B  3B   HR   BB    SO   SB   RA   ER   ERA  \\\n",
       "0   724  5575  7.311886  300  42  139  383   973  104  641  601  3.73   \n",
       "1   696  5467  7.207860  277  44  156  439  1264   70  700  653  4.07   \n",
       "2   669  5439  7.241366  303  29  141  533  1157   86  640  584  3.67   \n",
       "3   622  5533  7.231287  260  27  136  404  1231   68  701  643  3.98   \n",
       "4   689  5605  7.323831  289  49  151  455  1259   83  803  746  4.64   \n",
       "6   764  5567  7.242798  272  19  212  554  1227   63  698  652  4.03   \n",
       "7   713  5485  7.223296  246  20  217  418  1331   44  693  646  4.05   \n",
       "8   644  5485  7.232733  278  32  167  436  1310   87  642  604  3.74   \n",
       "9   748  5640  7.310550  294  33  161  478  1148   71  753  694  4.31   \n",
       "10  751  5511  7.258412  279  32  172  503  1233  101  733  680  4.24   \n",
       "11  729  5459  7.218177  278  26  230  486  1392  121  618  572  3.57   \n",
       "12  661  5417  7.194437  243  21  176  435  1150   52  675  630  3.94   \n",
       "13  656  5544  7.229839  262  22  198  478  1336   69  726  677  4.16   \n",
       "14  694  5600  7.248504  277  46  146  475  1119   78  729  664  4.14   \n",
       "15  647  5484  7.234898  288  39  137  506  1267   69  525  478  2.94   \n",
       "16  697  5631  7.288244  292  27  140  461  1322   98  596  532  3.21   \n",
       "17  689  5491  7.201916  272  30  171  567  1518   95  608  546  3.36   \n",
       "18  655  5480  7.229114  274  34  145  412  1299   84  737  682  4.28   \n",
       "19  640  5571  7.232010  257  27  167  496  1255  134  754  700  4.33   \n",
       "20  683  5527  7.209340  295  17  177  488  1290   51  613  557  3.43   \n",
       "21  703  5428  7.218177  265  13  177  539  1344   57  635  577  3.62   \n",
       "22  613  5463  7.259116  236  40  120  375  1150  112  678  638  4.02   \n",
       "23  573  5420  7.216709  251  18  100  471  1107   69  760  698  4.41   \n",
       "24  626  5529  7.226209  272  37  130  387  1274   88  809  749  4.69   \n",
       "25  667  5385  7.205635  263  26  187  563  1258   59  595  553  3.44   \n",
       "26  696  5565  7.304516  288  39  136  457  1159   93  627  597  3.72   \n",
       "27  720  5649  7.309881  289  48  154  490  1312  132  713  659  4.04   \n",
       "28  650  5457  7.189168  260  36  148  426  1327   82  731  655  4.09   \n",
       "29  737  5572  7.299797  274  49  186  388  1283   97  844  799  5.04   \n",
       "\n",
       "          CG       SHO        SV         E  \n",
       "0  -0.307098 -0.787002  1.532753 -0.348265  \n",
       "1  -0.307098  0.236737  0.312020 -0.540820  \n",
       "2   2.011315 -0.252844 -0.664137 -1.326125  \n",
       "3   1.264463 -0.513555 -0.820689  0.650818  \n",
       "4   1.264463  0.236737 -1.149165 -0.540820  \n",
       "6   0.121871 -2.064039  0.677176  0.082858  \n",
       "7  -1.732896 -0.252844  0.052325 -1.588197  \n",
       "8  -0.870682  0.236737  1.908137  0.237592  \n",
       "9   0.121871 -0.252844 -0.365006  0.383386  \n",
       "10  0.770649 -0.513555  0.312020  1.554265  \n",
       "11  0.770649  0.468029 -0.512328 -0.641926  \n",
       "12 -0.307098  0.236737  0.436838  0.082858  \n",
       "13  1.031663  0.236737  0.312020  0.161388  \n",
       "14  0.770649  0.908147 -2.498840  1.810553  \n",
       "15 -0.870682  0.908147  2.084917  0.311562  \n",
       "16 -1.732896  0.468029  1.333006  1.669209  \n",
       "17  1.031663  2.090856  0.677176  1.203715  \n",
       "18 -0.870682 -1.075340 -0.365006  1.430810  \n",
       "19 -0.307098 -0.787002 -1.149165 -0.167685  \n",
       "20 -0.870682  0.691583  0.906024 -0.348265  \n",
       "21  0.472300  0.468029 -0.221934 -0.167685  \n",
       "22 -1.732896  0.236737 -1.149165 -1.588197  \n",
       "23  0.121871 -0.252844  0.183904 -0.167685  \n",
       "24 -0.870682 -1.075340 -1.149165  1.472959  \n",
       "25  1.031663  2.090856  0.558509 -1.870191  \n",
       "26  1.264463  1.521828 -0.221934 -1.454792  \n",
       "27 -0.870682  0.236737  0.183904 -0.540820  \n",
       "28 -0.870682 -1.381412 -0.221934  0.001905  \n",
       "29  0.472300 -2.064039 -0.982264  0.237592  "
      ]
     },
     "execution_count": 149,
     "metadata": {},
     "output_type": "execute_result"
    }
   ],
   "source": [
    "x"
   ]
  },
  {
   "cell_type": "code",
   "execution_count": 150,
   "id": "da4b0b7d",
   "metadata": {},
   "outputs": [
    {
     "data": {
      "text/plain": [
       "0      95\n",
       "1      83\n",
       "2      81\n",
       "3      76\n",
       "4      74\n",
       "6      87\n",
       "7      81\n",
       "8      80\n",
       "9      78\n",
       "10     88\n",
       "11     86\n",
       "12     85\n",
       "13     76\n",
       "14     68\n",
       "15    100\n",
       "16     98\n",
       "17     97\n",
       "18     68\n",
       "19     64\n",
       "20     90\n",
       "21     83\n",
       "22     71\n",
       "23     67\n",
       "24     63\n",
       "25     92\n",
       "26     84\n",
       "27     79\n",
       "28     74\n",
       "29     68\n",
       "Name: W, dtype: int64"
      ]
     },
     "execution_count": 150,
     "metadata": {},
     "output_type": "execute_result"
    }
   ],
   "source": [
    "y"
   ]
  },
  {
   "cell_type": "markdown",
   "id": "326c0477",
   "metadata": {},
   "source": [
    "# Scaling using StandardScaler"
   ]
  },
  {
   "cell_type": "code",
   "execution_count": 151,
   "id": "421712b2",
   "metadata": {},
   "outputs": [],
   "source": [
    "from sklearn.preprocessing import StandardScaler\n",
    "from sklearn.metrics import accuracy_score, r2_score\n",
    "from sklearn.model_selection import train_test_split"
   ]
  },
  {
   "cell_type": "code",
   "execution_count": 152,
   "id": "305e8c97",
   "metadata": {},
   "outputs": [],
   "source": [
    "ssc=StandardScaler()\n",
    "X=pd.DataFrame(ssc.fit_transform(x), columns=x.columns)"
   ]
  },
  {
   "cell_type": "code",
   "execution_count": 153,
   "id": "0d23b50e",
   "metadata": {},
   "outputs": [
    {
     "data": {
      "text/html": [
       "<div>\n",
       "<style scoped>\n",
       "    .dataframe tbody tr th:only-of-type {\n",
       "        vertical-align: middle;\n",
       "    }\n",
       "\n",
       "    .dataframe tbody tr th {\n",
       "        vertical-align: top;\n",
       "    }\n",
       "\n",
       "    .dataframe thead th {\n",
       "        text-align: right;\n",
       "    }\n",
       "</style>\n",
       "<table border=\"1\" class=\"dataframe\">\n",
       "  <thead>\n",
       "    <tr style=\"text-align: right;\">\n",
       "      <th></th>\n",
       "      <th>R</th>\n",
       "      <th>AB</th>\n",
       "      <th>H</th>\n",
       "      <th>2B</th>\n",
       "      <th>3B</th>\n",
       "      <th>HR</th>\n",
       "      <th>BB</th>\n",
       "      <th>SO</th>\n",
       "      <th>SB</th>\n",
       "      <th>RA</th>\n",
       "      <th>ER</th>\n",
       "      <th>ERA</th>\n",
       "      <th>CG</th>\n",
       "      <th>SHO</th>\n",
       "      <th>SV</th>\n",
       "      <th>E</th>\n",
       "    </tr>\n",
       "  </thead>\n",
       "  <tbody>\n",
       "    <tr>\n",
       "      <th>0</th>\n",
       "      <td>0.959398</td>\n",
       "      <td>0.830084</td>\n",
       "      <td>1.723726</td>\n",
       "      <td>1.556538</td>\n",
       "      <td>1.010845</td>\n",
       "      <td>-0.765863</td>\n",
       "      <td>-1.536359</td>\n",
       "      <td>-2.727623</td>\n",
       "      <td>0.905953</td>\n",
       "      <td>-0.664514</td>\n",
       "      <td>-0.511148</td>\n",
       "      <td>-0.511388</td>\n",
       "      <td>-0.307098</td>\n",
       "      <td>-0.787002</td>\n",
       "      <td>1.532753</td>\n",
       "      <td>-0.348265</td>\n",
       "    </tr>\n",
       "    <tr>\n",
       "      <th>1</th>\n",
       "      <td>0.331147</td>\n",
       "      <td>-0.702831</td>\n",
       "      <td>-0.949846</td>\n",
       "      <td>0.201171</td>\n",
       "      <td>1.208917</td>\n",
       "      <td>-0.181389</td>\n",
       "      <td>-0.495021</td>\n",
       "      <td>0.121896</td>\n",
       "      <td>-0.585315</td>\n",
       "      <td>0.154638</td>\n",
       "      <td>0.232161</td>\n",
       "      <td>0.238952</td>\n",
       "      <td>-0.307098</td>\n",
       "      <td>0.236737</td>\n",
       "      <td>0.312020</td>\n",
       "      <td>-0.540820</td>\n",
       "    </tr>\n",
       "    <tr>\n",
       "      <th>2</th>\n",
       "      <td>-0.274666</td>\n",
       "      <td>-1.100253</td>\n",
       "      <td>-0.088700</td>\n",
       "      <td>1.733325</td>\n",
       "      <td>-0.276617</td>\n",
       "      <td>-0.697101</td>\n",
       "      <td>1.252941</td>\n",
       "      <td>-0.925866</td>\n",
       "      <td>0.116458</td>\n",
       "      <td>-0.678397</td>\n",
       "      <td>-0.754153</td>\n",
       "      <td>-0.643801</td>\n",
       "      <td>2.011315</td>\n",
       "      <td>-0.252844</td>\n",
       "      <td>-0.664137</td>\n",
       "      <td>-1.326125</td>\n",
       "    </tr>\n",
       "    <tr>\n",
       "      <th>3</th>\n",
       "      <td>-1.329231</td>\n",
       "      <td>0.233951</td>\n",
       "      <td>-0.347747</td>\n",
       "      <td>-0.800621</td>\n",
       "      <td>-0.474688</td>\n",
       "      <td>-0.869006</td>\n",
       "      <td>-1.145857</td>\n",
       "      <td>-0.201246</td>\n",
       "      <td>-0.673037</td>\n",
       "      <td>0.168522</td>\n",
       "      <td>0.089217</td>\n",
       "      <td>0.040333</td>\n",
       "      <td>1.264463</td>\n",
       "      <td>-0.513555</td>\n",
       "      <td>-0.820689</td>\n",
       "      <td>0.650818</td>\n",
       "    </tr>\n",
       "    <tr>\n",
       "      <th>4</th>\n",
       "      <td>0.174084</td>\n",
       "      <td>1.255894</td>\n",
       "      <td>2.030708</td>\n",
       "      <td>0.908319</td>\n",
       "      <td>1.704094</td>\n",
       "      <td>-0.353293</td>\n",
       "      <td>-0.197495</td>\n",
       "      <td>0.072935</td>\n",
       "      <td>-0.015124</td>\n",
       "      <td>1.584683</td>\n",
       "      <td>1.561540</td>\n",
       "      <td>1.496876</td>\n",
       "      <td>1.264463</td>\n",
       "      <td>0.236737</td>\n",
       "      <td>-1.149165</td>\n",
       "      <td>-0.540820</td>\n",
       "    </tr>\n",
       "  </tbody>\n",
       "</table>\n",
       "</div>"
      ],
      "text/plain": [
       "          R        AB         H        2B        3B        HR        BB  \\\n",
       "0  0.959398  0.830084  1.723726  1.556538  1.010845 -0.765863 -1.536359   \n",
       "1  0.331147 -0.702831 -0.949846  0.201171  1.208917 -0.181389 -0.495021   \n",
       "2 -0.274666 -1.100253 -0.088700  1.733325 -0.276617 -0.697101  1.252941   \n",
       "3 -1.329231  0.233951 -0.347747 -0.800621 -0.474688 -0.869006 -1.145857   \n",
       "4  0.174084  1.255894  2.030708  0.908319  1.704094 -0.353293 -0.197495   \n",
       "\n",
       "         SO        SB        RA        ER       ERA        CG       SHO  \\\n",
       "0 -2.727623  0.905953 -0.664514 -0.511148 -0.511388 -0.307098 -0.787002   \n",
       "1  0.121896 -0.585315  0.154638  0.232161  0.238952 -0.307098  0.236737   \n",
       "2 -0.925866  0.116458 -0.678397 -0.754153 -0.643801  2.011315 -0.252844   \n",
       "3 -0.201246 -0.673037  0.168522  0.089217  0.040333  1.264463 -0.513555   \n",
       "4  0.072935 -0.015124  1.584683  1.561540  1.496876  1.264463  0.236737   \n",
       "\n",
       "         SV         E  \n",
       "0  1.532753 -0.348265  \n",
       "1  0.312020 -0.540820  \n",
       "2 -0.664137 -1.326125  \n",
       "3 -0.820689  0.650818  \n",
       "4 -1.149165 -0.540820  "
      ]
     },
     "execution_count": 153,
     "metadata": {},
     "output_type": "execute_result"
    }
   ],
   "source": [
    "X.head()"
   ]
  },
  {
   "cell_type": "code",
   "execution_count": 154,
   "id": "997ab927",
   "metadata": {},
   "outputs": [
    {
     "data": {
      "text/html": [
       "<div>\n",
       "<style scoped>\n",
       "    .dataframe tbody tr th:only-of-type {\n",
       "        vertical-align: middle;\n",
       "    }\n",
       "\n",
       "    .dataframe tbody tr th {\n",
       "        vertical-align: top;\n",
       "    }\n",
       "\n",
       "    .dataframe thead th {\n",
       "        text-align: right;\n",
       "    }\n",
       "</style>\n",
       "<table border=\"1\" class=\"dataframe\">\n",
       "  <thead>\n",
       "    <tr style=\"text-align: right;\">\n",
       "      <th></th>\n",
       "      <th>vif_Features</th>\n",
       "      <th>Features</th>\n",
       "    </tr>\n",
       "  </thead>\n",
       "  <tbody>\n",
       "    <tr>\n",
       "      <th>0</th>\n",
       "      <td>7.112342</td>\n",
       "      <td>R</td>\n",
       "    </tr>\n",
       "    <tr>\n",
       "      <th>1</th>\n",
       "      <td>20.237195</td>\n",
       "      <td>AB</td>\n",
       "    </tr>\n",
       "    <tr>\n",
       "      <th>2</th>\n",
       "      <td>10.114607</td>\n",
       "      <td>H</td>\n",
       "    </tr>\n",
       "    <tr>\n",
       "      <th>3</th>\n",
       "      <td>3.528059</td>\n",
       "      <td>2B</td>\n",
       "    </tr>\n",
       "    <tr>\n",
       "      <th>4</th>\n",
       "      <td>3.227808</td>\n",
       "      <td>3B</td>\n",
       "    </tr>\n",
       "    <tr>\n",
       "      <th>5</th>\n",
       "      <td>8.736960</td>\n",
       "      <td>HR</td>\n",
       "    </tr>\n",
       "    <tr>\n",
       "      <th>6</th>\n",
       "      <td>3.324550</td>\n",
       "      <td>BB</td>\n",
       "    </tr>\n",
       "    <tr>\n",
       "      <th>7</th>\n",
       "      <td>2.811546</td>\n",
       "      <td>SO</td>\n",
       "    </tr>\n",
       "    <tr>\n",
       "      <th>8</th>\n",
       "      <td>1.955254</td>\n",
       "      <td>SB</td>\n",
       "    </tr>\n",
       "    <tr>\n",
       "      <th>9</th>\n",
       "      <td>200.826177</td>\n",
       "      <td>RA</td>\n",
       "    </tr>\n",
       "    <tr>\n",
       "      <th>10</th>\n",
       "      <td>2079.420586</td>\n",
       "      <td>ER</td>\n",
       "    </tr>\n",
       "    <tr>\n",
       "      <th>11</th>\n",
       "      <td>1614.529449</td>\n",
       "      <td>ERA</td>\n",
       "    </tr>\n",
       "    <tr>\n",
       "      <th>12</th>\n",
       "      <td>2.912414</td>\n",
       "      <td>CG</td>\n",
       "    </tr>\n",
       "    <tr>\n",
       "      <th>13</th>\n",
       "      <td>3.274913</td>\n",
       "      <td>SHO</td>\n",
       "    </tr>\n",
       "    <tr>\n",
       "      <th>14</th>\n",
       "      <td>5.914692</td>\n",
       "      <td>SV</td>\n",
       "    </tr>\n",
       "    <tr>\n",
       "      <th>15</th>\n",
       "      <td>2.341746</td>\n",
       "      <td>E</td>\n",
       "    </tr>\n",
       "  </tbody>\n",
       "</table>\n",
       "</div>"
      ],
      "text/plain": [
       "    vif_Features Features\n",
       "0       7.112342        R\n",
       "1      20.237195       AB\n",
       "2      10.114607        H\n",
       "3       3.528059       2B\n",
       "4       3.227808       3B\n",
       "5       8.736960       HR\n",
       "6       3.324550       BB\n",
       "7       2.811546       SO\n",
       "8       1.955254       SB\n",
       "9     200.826177       RA\n",
       "10   2079.420586       ER\n",
       "11   1614.529449      ERA\n",
       "12      2.912414       CG\n",
       "13      3.274913      SHO\n",
       "14      5.914692       SV\n",
       "15      2.341746        E"
      ]
     },
     "execution_count": 154,
     "metadata": {},
     "output_type": "execute_result"
    }
   ],
   "source": [
    "from statsmodels.stats.outliers_influence import variance_inflation_factor\n",
    "vif=pd.DataFrame()\n",
    "vif[\"vif_Features\"]=[variance_inflation_factor(X.values, i) for i in range(X.shape[1])]\n",
    "vif[\"Features\"]=X.columns\n",
    "vif"
   ]
  },
  {
   "cell_type": "raw",
   "id": "3421151f",
   "metadata": {},
   "source": [
    "from the above vif values multicolinearity exist in\n",
    "9\t205.812473\tRA\n",
    "10\t2075.777531\tER\n",
    "11\t1621.990665\tERA\n",
    "Hence droping RA nad ER"
   ]
  },
  {
   "cell_type": "code",
   "execution_count": 155,
   "id": "add024b2",
   "metadata": {},
   "outputs": [],
   "source": [
    "X=X.drop(['ER'], axis=1)"
   ]
  },
  {
   "cell_type": "code",
   "execution_count": 156,
   "id": "5281bf86",
   "metadata": {},
   "outputs": [],
   "source": [
    "X=X.drop(['ERA'], axis=1)"
   ]
  },
  {
   "cell_type": "code",
   "execution_count": 157,
   "id": "894ae271",
   "metadata": {},
   "outputs": [
    {
     "data": {
      "text/html": [
       "<div>\n",
       "<style scoped>\n",
       "    .dataframe tbody tr th:only-of-type {\n",
       "        vertical-align: middle;\n",
       "    }\n",
       "\n",
       "    .dataframe tbody tr th {\n",
       "        vertical-align: top;\n",
       "    }\n",
       "\n",
       "    .dataframe thead th {\n",
       "        text-align: right;\n",
       "    }\n",
       "</style>\n",
       "<table border=\"1\" class=\"dataframe\">\n",
       "  <thead>\n",
       "    <tr style=\"text-align: right;\">\n",
       "      <th></th>\n",
       "      <th>vif_Features</th>\n",
       "      <th>Features</th>\n",
       "    </tr>\n",
       "  </thead>\n",
       "  <tbody>\n",
       "    <tr>\n",
       "      <th>0</th>\n",
       "      <td>6.019438</td>\n",
       "      <td>R</td>\n",
       "    </tr>\n",
       "    <tr>\n",
       "      <th>1</th>\n",
       "      <td>5.210230</td>\n",
       "      <td>AB</td>\n",
       "    </tr>\n",
       "    <tr>\n",
       "      <th>2</th>\n",
       "      <td>7.728111</td>\n",
       "      <td>H</td>\n",
       "    </tr>\n",
       "    <tr>\n",
       "      <th>3</th>\n",
       "      <td>3.165732</td>\n",
       "      <td>2B</td>\n",
       "    </tr>\n",
       "    <tr>\n",
       "      <th>4</th>\n",
       "      <td>2.981242</td>\n",
       "      <td>3B</td>\n",
       "    </tr>\n",
       "    <tr>\n",
       "      <th>5</th>\n",
       "      <td>6.168639</td>\n",
       "      <td>HR</td>\n",
       "    </tr>\n",
       "    <tr>\n",
       "      <th>6</th>\n",
       "      <td>3.053363</td>\n",
       "      <td>BB</td>\n",
       "    </tr>\n",
       "    <tr>\n",
       "      <th>7</th>\n",
       "      <td>2.287734</td>\n",
       "      <td>SO</td>\n",
       "    </tr>\n",
       "    <tr>\n",
       "      <th>8</th>\n",
       "      <td>1.773119</td>\n",
       "      <td>SB</td>\n",
       "    </tr>\n",
       "    <tr>\n",
       "      <th>9</th>\n",
       "      <td>4.759240</td>\n",
       "      <td>RA</td>\n",
       "    </tr>\n",
       "    <tr>\n",
       "      <th>10</th>\n",
       "      <td>2.522962</td>\n",
       "      <td>CG</td>\n",
       "    </tr>\n",
       "    <tr>\n",
       "      <th>11</th>\n",
       "      <td>3.121855</td>\n",
       "      <td>SHO</td>\n",
       "    </tr>\n",
       "    <tr>\n",
       "      <th>12</th>\n",
       "      <td>2.606434</td>\n",
       "      <td>SV</td>\n",
       "    </tr>\n",
       "    <tr>\n",
       "      <th>13</th>\n",
       "      <td>2.239918</td>\n",
       "      <td>E</td>\n",
       "    </tr>\n",
       "  </tbody>\n",
       "</table>\n",
       "</div>"
      ],
      "text/plain": [
       "    vif_Features Features\n",
       "0       6.019438        R\n",
       "1       5.210230       AB\n",
       "2       7.728111        H\n",
       "3       3.165732       2B\n",
       "4       2.981242       3B\n",
       "5       6.168639       HR\n",
       "6       3.053363       BB\n",
       "7       2.287734       SO\n",
       "8       1.773119       SB\n",
       "9       4.759240       RA\n",
       "10      2.522962       CG\n",
       "11      3.121855      SHO\n",
       "12      2.606434       SV\n",
       "13      2.239918        E"
      ]
     },
     "execution_count": 157,
     "metadata": {},
     "output_type": "execute_result"
    }
   ],
   "source": [
    "from statsmodels.stats.outliers_influence import variance_inflation_factor\n",
    "vif=pd.DataFrame()\n",
    "vif[\"vif_Features\"]=[variance_inflation_factor(X.values, i) for i in range(X.shape[1])]\n",
    "vif[\"Features\"]=X.columns\n",
    "vif"
   ]
  },
  {
   "cell_type": "markdown",
   "id": "3206f921",
   "metadata": {},
   "source": [
    "Hence, Multicolinearity issue is resolved"
   ]
  },
  {
   "cell_type": "markdown",
   "id": "c99f0c93",
   "metadata": {},
   "source": [
    "# Splitting the Data for Training and Testing"
   ]
  },
  {
   "cell_type": "code",
   "execution_count": 158,
   "id": "a81021e4",
   "metadata": {},
   "outputs": [],
   "source": [
    "from sklearn.metrics import mean_squared_error, mean_absolute_error\n",
    "from sklearn.metrics import r2_score\n",
    "from sklearn.model_selection import train_test_split, cross_val_score\n",
    "from sklearn.linear_model import LinearRegression\n"
   ]
  },
  {
   "cell_type": "markdown",
   "id": "579a53de",
   "metadata": {},
   "source": [
    "Finding the Random State"
   ]
  },
  {
   "cell_type": "code",
   "execution_count": 159,
   "id": "eb1e15f4",
   "metadata": {},
   "outputs": [
    {
     "name": "stdout",
     "output_type": "stream",
     "text": [
      "At random state 0, the training accuracy is :- 0.9768383015216393\n",
      "At random state 0, the testing accuracy is :- 0.49963681285930206\n",
      "\n",
      "\n",
      "At random state 1, the training accuracy is :- 0.9762285427209907\n",
      "At random state 1, the testing accuracy is :- 0.1856575667552426\n",
      "\n",
      "\n",
      "At random state 2, the training accuracy is :- 0.9638255316870876\n",
      "At random state 2, the testing accuracy is :- -0.26799016473915627\n",
      "\n",
      "\n",
      "At random state 3, the training accuracy is :- 0.9677990948927813\n",
      "At random state 3, the testing accuracy is :- 0.677669778666316\n",
      "\n",
      "\n",
      "At random state 4, the training accuracy is :- 0.9680569379679668\n",
      "At random state 4, the testing accuracy is :- 0.7641316816582383\n",
      "\n",
      "\n",
      "At random state 5, the training accuracy is :- 0.9612472010423034\n",
      "At random state 5, the testing accuracy is :- 0.6051495407609998\n",
      "\n",
      "\n",
      "At random state 6, the training accuracy is :- 0.9723763056746938\n",
      "At random state 6, the testing accuracy is :- 0.7504731543294977\n",
      "\n",
      "\n",
      "At random state 7, the training accuracy is :- 0.9610245315460944\n",
      "At random state 7, the testing accuracy is :- 0.31669541362661235\n",
      "\n",
      "\n",
      "At random state 8, the training accuracy is :- 0.9718467785099213\n",
      "At random state 8, the testing accuracy is :- 0.7189103644396146\n",
      "\n",
      "\n",
      "At random state 9, the training accuracy is :- 0.9788413708861611\n",
      "At random state 9, the testing accuracy is :- 0.6096318438144048\n",
      "\n",
      "\n",
      "At random state 10, the training accuracy is :- 0.989837763152877\n",
      "At random state 10, the testing accuracy is :- -0.31687653444359953\n",
      "\n",
      "\n",
      "At random state 11, the training accuracy is :- 0.9672902668384316\n",
      "At random state 11, the testing accuracy is :- 0.4159389201823048\n",
      "\n",
      "\n",
      "At random state 12, the training accuracy is :- 0.9820637271502152\n",
      "At random state 12, the testing accuracy is :- 0.44455720493705686\n",
      "\n",
      "\n",
      "At random state 13, the training accuracy is :- 0.976182128376409\n",
      "At random state 13, the testing accuracy is :- 0.02014301319991607\n",
      "\n",
      "\n",
      "At random state 14, the training accuracy is :- 0.9544942731905451\n",
      "At random state 14, the testing accuracy is :- 0.8480600424839813\n",
      "\n",
      "\n",
      "At random state 15, the training accuracy is :- 0.9864864115138804\n",
      "At random state 15, the testing accuracy is :- -0.10346801478245848\n",
      "\n",
      "\n",
      "At random state 16, the training accuracy is :- 0.9925019011292505\n",
      "At random state 16, the testing accuracy is :- -0.9936943668750267\n",
      "\n",
      "\n",
      "At random state 17, the training accuracy is :- 0.9552281888895086\n",
      "At random state 17, the testing accuracy is :- 0.7884803013779389\n",
      "\n",
      "\n",
      "At random state 18, the training accuracy is :- 0.9752754787824304\n",
      "At random state 18, the testing accuracy is :- 0.364837085974579\n",
      "\n",
      "\n",
      "At random state 19, the training accuracy is :- 0.9639415752945019\n",
      "At random state 19, the testing accuracy is :- 0.30974531875016753\n",
      "\n",
      "\n",
      "At random state 20, the training accuracy is :- 0.976962609330673\n",
      "At random state 20, the testing accuracy is :- -0.9902081715056275\n",
      "\n",
      "\n",
      "At random state 21, the training accuracy is :- 0.9762362874471472\n",
      "At random state 21, the testing accuracy is :- -0.08664528828850715\n",
      "\n",
      "\n",
      "At random state 22, the training accuracy is :- 0.9622663324957266\n",
      "At random state 22, the testing accuracy is :- 0.615382008421207\n",
      "\n",
      "\n",
      "At random state 23, the training accuracy is :- 0.9842723176772987\n",
      "At random state 23, the testing accuracy is :- 0.6348451592098614\n",
      "\n",
      "\n",
      "At random state 24, the training accuracy is :- 0.991736283510785\n",
      "At random state 24, the testing accuracy is :- -1.8162714187259001\n",
      "\n",
      "\n",
      "At random state 25, the training accuracy is :- 0.967634384788486\n",
      "At random state 25, the testing accuracy is :- -0.06733549086767177\n",
      "\n",
      "\n",
      "At random state 26, the training accuracy is :- 0.9676515989733345\n",
      "At random state 26, the testing accuracy is :- -0.5242151302411138\n",
      "\n",
      "\n",
      "At random state 27, the training accuracy is :- 0.9738661825825402\n",
      "At random state 27, the testing accuracy is :- 0.7800275014950756\n",
      "\n",
      "\n",
      "At random state 28, the training accuracy is :- 0.9792797129177291\n",
      "At random state 28, the testing accuracy is :- 0.5353570492609279\n",
      "\n",
      "\n",
      "At random state 29, the training accuracy is :- 0.96055235118519\n",
      "At random state 29, the testing accuracy is :- 0.7999958043098707\n",
      "\n",
      "\n",
      "At random state 30, the training accuracy is :- 0.9559261680945944\n",
      "At random state 30, the testing accuracy is :- 0.8336273702215434\n",
      "\n",
      "\n",
      "At random state 31, the training accuracy is :- 0.9803613186845541\n",
      "At random state 31, the testing accuracy is :- 0.0980835020835128\n",
      "\n",
      "\n",
      "At random state 32, the training accuracy is :- 0.9727880455575155\n",
      "At random state 32, the testing accuracy is :- 0.4741044011268696\n",
      "\n",
      "\n",
      "At random state 33, the training accuracy is :- 0.9628337653481503\n",
      "At random state 33, the testing accuracy is :- 0.6969880726991778\n",
      "\n",
      "\n",
      "At random state 34, the training accuracy is :- 0.9800176834677639\n",
      "At random state 34, the testing accuracy is :- 0.5019062999882213\n",
      "\n",
      "\n",
      "At random state 35, the training accuracy is :- 0.974725758715545\n",
      "At random state 35, the testing accuracy is :- 0.8131207037782121\n",
      "\n",
      "\n",
      "At random state 36, the training accuracy is :- 0.982868485854073\n",
      "At random state 36, the testing accuracy is :- -0.14893309380292186\n",
      "\n",
      "\n",
      "At random state 37, the training accuracy is :- 0.9781033291470542\n",
      "At random state 37, the testing accuracy is :- -0.11392503266754761\n",
      "\n",
      "\n",
      "At random state 38, the training accuracy is :- 0.9629822858027242\n",
      "At random state 38, the testing accuracy is :- 0.4689663202427763\n",
      "\n",
      "\n",
      "At random state 39, the training accuracy is :- 0.9819482068994163\n",
      "At random state 39, the testing accuracy is :- -0.00227358536210831\n",
      "\n",
      "\n",
      "At random state 40, the training accuracy is :- 0.9860641592828494\n",
      "At random state 40, the testing accuracy is :- -0.1976537662910658\n",
      "\n",
      "\n",
      "At random state 41, the training accuracy is :- 0.9545829293375788\n",
      "At random state 41, the testing accuracy is :- 0.8088713012654305\n",
      "\n",
      "\n",
      "At random state 42, the training accuracy is :- 0.9662606992561767\n",
      "At random state 42, the testing accuracy is :- 0.5778419598404851\n",
      "\n",
      "\n",
      "At random state 43, the training accuracy is :- 0.986040846210514\n",
      "At random state 43, the testing accuracy is :- -5.543286250845224\n",
      "\n",
      "\n",
      "At random state 44, the training accuracy is :- 0.9845298133365209\n",
      "At random state 44, the testing accuracy is :- 0.0712982866520786\n",
      "\n",
      "\n",
      "At random state 45, the training accuracy is :- 0.9811583645973048\n",
      "At random state 45, the testing accuracy is :- 0.2002438043953093\n",
      "\n",
      "\n",
      "At random state 46, the training accuracy is :- 0.9673430419463025\n",
      "At random state 46, the testing accuracy is :- -0.2777204217620417\n",
      "\n",
      "\n",
      "At random state 47, the training accuracy is :- 0.9714979758318286\n",
      "At random state 47, the testing accuracy is :- -0.29213095983471793\n",
      "\n",
      "\n",
      "At random state 48, the training accuracy is :- 0.9890551853764101\n",
      "At random state 48, the testing accuracy is :- -0.7196013645545067\n",
      "\n",
      "\n",
      "At random state 49, the training accuracy is :- 0.9835334893607125\n",
      "At random state 49, the testing accuracy is :- -0.16796758468083595\n",
      "\n",
      "\n",
      "At random state 50, the training accuracy is :- 0.9537647229539131\n",
      "At random state 50, the testing accuracy is :- 0.8316780990025134\n",
      "\n",
      "\n",
      "At random state 51, the training accuracy is :- 0.9707793197804688\n",
      "At random state 51, the testing accuracy is :- 0.7376571558186933\n",
      "\n",
      "\n",
      "At random state 52, the training accuracy is :- 0.9891902525765093\n",
      "At random state 52, the testing accuracy is :- -0.12942400087250805\n",
      "\n",
      "\n",
      "At random state 53, the training accuracy is :- 0.9762241207879091\n",
      "At random state 53, the testing accuracy is :- 0.44983422215588886\n",
      "\n",
      "\n",
      "At random state 54, the training accuracy is :- 0.9761432125804467\n",
      "At random state 54, the testing accuracy is :- -0.05304591605218856\n",
      "\n",
      "\n",
      "At random state 55, the training accuracy is :- 0.9614974630254449\n",
      "At random state 55, the testing accuracy is :- 0.3802135617858169\n",
      "\n",
      "\n",
      "At random state 56, the training accuracy is :- 0.9749201446052389\n",
      "At random state 56, the testing accuracy is :- 0.725578123287477\n",
      "\n",
      "\n",
      "At random state 57, the training accuracy is :- 0.9653412168780406\n",
      "At random state 57, the testing accuracy is :- 0.7592380863730328\n",
      "\n",
      "\n",
      "At random state 58, the training accuracy is :- 0.9863597768390859\n",
      "At random state 58, the testing accuracy is :- 0.682835436470635\n",
      "\n",
      "\n",
      "At random state 59, the training accuracy is :- 0.9709841465989215\n",
      "At random state 59, the testing accuracy is :- 0.8210088959365204\n",
      "\n",
      "\n",
      "At random state 60, the training accuracy is :- 0.9895042898089603\n",
      "At random state 60, the testing accuracy is :- 0.11806917325103516\n",
      "\n",
      "\n",
      "At random state 61, the training accuracy is :- 0.9743321263697647\n",
      "At random state 61, the testing accuracy is :- 0.7155382222230542\n",
      "\n",
      "\n",
      "At random state 62, the training accuracy is :- 0.9813232093230441\n",
      "At random state 62, the testing accuracy is :- 0.7939046316735261\n",
      "\n",
      "\n",
      "At random state 63, the training accuracy is :- 0.9820000911158872\n",
      "At random state 63, the testing accuracy is :- 0.5977506629877454\n",
      "\n",
      "\n",
      "At random state 64, the training accuracy is :- 0.9570117243236272\n",
      "At random state 64, the testing accuracy is :- 0.7484439773829226\n",
      "\n",
      "\n",
      "At random state 65, the training accuracy is :- 0.9785915941789564\n",
      "At random state 65, the testing accuracy is :- 0.38882625237973767\n",
      "\n",
      "\n",
      "At random state 66, the training accuracy is :- 0.9556742188288495\n",
      "At random state 66, the testing accuracy is :- 0.6270406623531938\n",
      "\n",
      "\n",
      "At random state 67, the training accuracy is :- 0.9598461778868997\n",
      "At random state 67, the testing accuracy is :- 0.6202987353536655\n",
      "\n",
      "\n",
      "At random state 68, the training accuracy is :- 0.9608625145030376\n",
      "At random state 68, the testing accuracy is :- 0.3338504225968636\n",
      "\n",
      "\n",
      "At random state 69, the training accuracy is :- 0.9709265741212006\n",
      "At random state 69, the testing accuracy is :- 0.3579220950491214\n",
      "\n",
      "\n",
      "At random state 70, the training accuracy is :- 0.9677036948240954\n",
      "At random state 70, the testing accuracy is :- 0.47500627690363206\n",
      "\n",
      "\n",
      "At random state 71, the training accuracy is :- 0.9908534857219358\n",
      "At random state 71, the testing accuracy is :- -1.4433267148549107\n",
      "\n",
      "\n",
      "At random state 72, the training accuracy is :- 0.9730022203302444\n",
      "At random state 72, the testing accuracy is :- -1.9267584512615743\n",
      "\n",
      "\n",
      "At random state 73, the training accuracy is :- 0.9861714764983078\n",
      "At random state 73, the testing accuracy is :- 0.2454225927261322\n",
      "\n",
      "\n",
      "At random state 74, the training accuracy is :- 0.967205398626331\n",
      "At random state 74, the testing accuracy is :- 0.3738602397081827\n",
      "\n",
      "\n",
      "At random state 75, the training accuracy is :- 0.9652005386984609\n",
      "At random state 75, the testing accuracy is :- 0.4396734254246154\n",
      "\n",
      "\n",
      "At random state 76, the training accuracy is :- 0.9697686213170073\n",
      "At random state 76, the testing accuracy is :- 0.6484848363279453\n",
      "\n",
      "\n",
      "At random state 77, the training accuracy is :- 0.9581167435043934\n",
      "At random state 77, the testing accuracy is :- 0.8079170867572144\n",
      "\n",
      "\n",
      "At random state 78, the training accuracy is :- 0.9623996470508247\n",
      "At random state 78, the testing accuracy is :- 0.19463365180412773\n",
      "\n",
      "\n",
      "At random state 79, the training accuracy is :- 0.9747902605630037\n",
      "At random state 79, the testing accuracy is :- 0.6949327320304985\n",
      "\n",
      "\n",
      "At random state 80, the training accuracy is :- 0.9697742317687916\n",
      "At random state 80, the testing accuracy is :- 0.7185334711022706\n",
      "\n",
      "\n",
      "At random state 81, the training accuracy is :- 0.9727053936935073\n",
      "At random state 81, the testing accuracy is :- 0.8185938162515227\n",
      "\n",
      "\n",
      "At random state 82, the training accuracy is :- 0.9798712539448283\n",
      "At random state 82, the testing accuracy is :- 0.45677995005327576\n",
      "\n",
      "\n",
      "At random state 83, the training accuracy is :- 0.9756317606315615\n",
      "At random state 83, the testing accuracy is :- 0.28315423815801066\n",
      "\n",
      "\n",
      "At random state 84, the training accuracy is :- 0.9828111868130216\n",
      "At random state 84, the testing accuracy is :- 0.23591372065293437\n",
      "\n",
      "\n",
      "At random state 85, the training accuracy is :- 0.966932751061138\n",
      "At random state 85, the testing accuracy is :- 0.2461781793801745\n",
      "\n",
      "\n",
      "At random state 86, the training accuracy is :- 0.9676054527656346\n",
      "At random state 86, the testing accuracy is :- -1.0577215005047278\n",
      "\n",
      "\n",
      "At random state 87, the training accuracy is :- 0.9668267450826253\n",
      "At random state 87, the testing accuracy is :- 0.1151598484152967\n",
      "\n",
      "\n",
      "At random state 88, the training accuracy is :- 0.992288736669312\n",
      "At random state 88, the testing accuracy is :- -1.7305032279945833\n",
      "\n",
      "\n",
      "At random state 89, the training accuracy is :- 0.9701384384212991\n",
      "At random state 89, the testing accuracy is :- 0.5944959477898137\n",
      "\n",
      "\n",
      "At random state 90, the training accuracy is :- 0.9668395701572478\n",
      "At random state 90, the testing accuracy is :- 0.5649215655467247\n",
      "\n",
      "\n",
      "At random state 91, the training accuracy is :- 0.98441046070347\n",
      "At random state 91, the testing accuracy is :- 0.3706838329677624\n",
      "\n",
      "\n",
      "At random state 92, the training accuracy is :- 0.9876320209564958\n",
      "At random state 92, the testing accuracy is :- 0.42566467965698995\n",
      "\n",
      "\n",
      "At random state 93, the training accuracy is :- 0.9749450302178477\n",
      "At random state 93, the testing accuracy is :- -0.41905412520599117\n",
      "\n",
      "\n",
      "At random state 94, the training accuracy is :- 0.9792637837645164\n",
      "At random state 94, the testing accuracy is :- -0.6159768201238753\n",
      "\n",
      "\n",
      "At random state 95, the training accuracy is :- 0.9718301805648845\n",
      "At random state 95, the testing accuracy is :- 0.4129401614623671\n",
      "\n",
      "\n",
      "At random state 96, the training accuracy is :- 0.994290848632453\n",
      "At random state 96, the testing accuracy is :- -1.3890191407426928\n",
      "\n",
      "\n",
      "At random state 97, the training accuracy is :- 0.9600175489916112\n",
      "At random state 97, the testing accuracy is :- 0.6801134423161612\n",
      "\n",
      "\n",
      "At random state 98, the training accuracy is :- 0.993052431032255\n",
      "At random state 98, the testing accuracy is :- -2.772579505205607\n",
      "\n",
      "\n",
      "At random state 99, the training accuracy is :- 0.9633011594527366\n",
      "At random state 99, the testing accuracy is :- 0.8004187639449506\n",
      "\n",
      "\n"
     ]
    }
   ],
   "source": [
    "LR=LinearRegression()\n",
    "\n",
    "for i in range(0,100):\n",
    "    x_train,x_test,y_train,y_test=train_test_split(x,y,test_size=0.22, random_state=i)\n",
    "    LR.fit(x_train, y_train)\n",
    "    LR_predict_train=LR.predict(x_train)\n",
    "    LR_predict_test=LR.predict(x_test)\n",
    "    print(f\"At random state {i}, the training accuracy is :- {r2_score(y_train, LR_predict_train)}\")\n",
    "    print(f\"At random state {i}, the testing accuracy is :- {r2_score (y_test,  LR_predict_test)}\")\n",
    "    print(\"\\n\")"
   ]
  },
  {
   "cell_type": "code",
   "execution_count": 160,
   "id": "cf08f116",
   "metadata": {},
   "outputs": [],
   "source": [
    "x_train,x_test,y_train,y_test=train_test_split(x,y,test_size=0.22, random_state=99)"
   ]
  },
  {
   "cell_type": "code",
   "execution_count": 161,
   "id": "bc3f87d7",
   "metadata": {},
   "outputs": [
    {
     "data": {
      "text/plain": [
       "(22, 16)"
      ]
     },
     "execution_count": 161,
     "metadata": {},
     "output_type": "execute_result"
    }
   ],
   "source": [
    "x_train.shape"
   ]
  },
  {
   "cell_type": "code",
   "execution_count": 162,
   "id": "ca28f368",
   "metadata": {},
   "outputs": [
    {
     "data": {
      "text/plain": [
       "(22,)"
      ]
     },
     "execution_count": 162,
     "metadata": {},
     "output_type": "execute_result"
    }
   ],
   "source": [
    "y_train.shape"
   ]
  },
  {
   "cell_type": "code",
   "execution_count": 163,
   "id": "9b1c45e8",
   "metadata": {},
   "outputs": [
    {
     "data": {
      "text/plain": [
       "(7, 16)"
      ]
     },
     "execution_count": 163,
     "metadata": {},
     "output_type": "execute_result"
    }
   ],
   "source": [
    "x_test.shape"
   ]
  },
  {
   "cell_type": "code",
   "execution_count": 164,
   "id": "26af18af",
   "metadata": {},
   "outputs": [
    {
     "data": {
      "text/plain": [
       "(7,)"
      ]
     },
     "execution_count": 164,
     "metadata": {},
     "output_type": "execute_result"
    }
   ],
   "source": [
    "y_test.shape"
   ]
  },
  {
   "cell_type": "code",
   "execution_count": 165,
   "id": "7aacf526",
   "metadata": {},
   "outputs": [],
   "source": [
    "from sklearn.ensemble import RandomForestRegressor\n",
    "from sklearn.tree import DecisionTreeRegressor\n",
    "from sklearn.svm import SVR\n",
    "from sklearn.linear_model import LinearRegression\n",
    "from sklearn.neighbors import KNeighborsRegressor as KNN\n",
    "from sklearn.linear_model import SGDRegressor\n",
    "from sklearn.metrics import classification_report\n",
    "from sklearn.ensemble import GradientBoostingRegressor\n",
    "from sklearn.model_selection import cross_val_score\n",
    "from sklearn.ensemble import BaggingRegressor\n",
    "from sklearn import metrics\n",
    "from sklearn.model_selection import GridSearchCV\n",
    "from sklearn.linear_model import Lasso,Ridge"
   ]
  },
  {
   "cell_type": "markdown",
   "id": "53b48265",
   "metadata": {},
   "source": [
    "# 1: LinearRegression"
   ]
  },
  {
   "cell_type": "code",
   "execution_count": 166,
   "id": "297b06f2",
   "metadata": {},
   "outputs": [
    {
     "name": "stdout",
     "output_type": "stream",
     "text": [
      "0.9633011594527366\n"
     ]
    }
   ],
   "source": [
    "LR=LinearRegression()\n",
    "\n",
    "LR.fit(x_train, y_train)\n",
    "print(LR.score(x_train, y_train))\n",
    "LR_predict=LR.predict(x_test)"
   ]
  },
  {
   "cell_type": "code",
   "execution_count": 167,
   "id": "2e62b9b1",
   "metadata": {},
   "outputs": [
    {
     "name": "stdout",
     "output_type": "stream",
     "text": [
      "MSE: 27.07787872028507\n",
      "MAE: 4.9990723975686615\n",
      "r2_score: 0.8702723798743071\n"
     ]
    }
   ],
   "source": [
    "print('MSE:', mean_squared_error(LR_predict, y_test))\n",
    "print('MAE:', mean_absolute_error(LR_predict, y_test))\n",
    "print('r2_score:', r2_score(LR_predict, y_test))"
   ]
  },
  {
   "cell_type": "markdown",
   "id": "14e1b35e",
   "metadata": {},
   "source": [
    "# 2: SGD"
   ]
  },
  {
   "cell_type": "code",
   "execution_count": 168,
   "id": "a64feb1b",
   "metadata": {},
   "outputs": [
    {
     "name": "stdout",
     "output_type": "stream",
     "text": [
      "r2_score: -4.5160833057694865e+29\n",
      "MSE: 6.127126901378684e+31\n",
      "MAE: 7515896915223286.0\n",
      "RMSE: 7827596630753711.0\n"
     ]
    }
   ],
   "source": [
    "sgd=SGDRegressor()\n",
    "sgd.fit(x_train, y_train)\n",
    "pred=sgd.predict(x_test)\n",
    "print('r2_score:', r2_score(y_test, pred))\n",
    "print('MSE:', metrics.mean_squared_error(y_test, pred))\n",
    "print('MAE:', metrics.mean_absolute_error(y_test, pred))\n",
    "print('RMSE:', np.sqrt(metrics.mean_squared_error(y_test, pred)))\n"
   ]
  },
  {
   "cell_type": "markdown",
   "id": "33e0c756",
   "metadata": {},
   "source": [
    "SGD is giving me 90% r2_score"
   ]
  },
  {
   "cell_type": "markdown",
   "id": "32cf53ad",
   "metadata": {},
   "source": [
    "# 3: Lasso Regressor"
   ]
  },
  {
   "cell_type": "code",
   "execution_count": 169,
   "id": "f8e33b83",
   "metadata": {},
   "outputs": [
    {
     "name": "stdout",
     "output_type": "stream",
     "text": [
      "{'alpha': 10, 'random_state': 0}\n"
     ]
    }
   ],
   "source": [
    "parameters={\"alpha\": [0.0001,0.001,0.01,0.1,1,10], 'random_state': list(range(0,100))}\n",
    "ls=Lasso()\n",
    "Z=GridSearchCV(ls,parameters)\n",
    "Z.fit(x_train, y_train)\n",
    "print(Z.best_params_)"
   ]
  },
  {
   "cell_type": "code",
   "execution_count": 170,
   "id": "af09886d",
   "metadata": {},
   "outputs": [
    {
     "name": "stdout",
     "output_type": "stream",
     "text": [
      "r2_score: 0.6991174593947695\n",
      "MSE: 40.82177816211373\n",
      "MAE: 5.90980004598019\n",
      "RMSE: 6.389192293405618\n"
     ]
    }
   ],
   "source": [
    "ls=Lasso(alpha=10, random_state=0)\n",
    "ls.fit(x_train, y_train)\n",
    "pred=ls.predict(x_test)\n",
    "print('r2_score:',r2_score(y_test, pred))\n",
    "print('MSE:', metrics.mean_squared_error(y_test, pred))\n",
    "print('MAE:', metrics.mean_absolute_error(y_test, pred))\n",
    "print('RMSE:', np.sqrt(metrics.mean_squared_error(y_test, pred)))\n"
   ]
  },
  {
   "cell_type": "markdown",
   "id": "757b23d0",
   "metadata": {},
   "source": [
    "# Ridge Regressor"
   ]
  },
  {
   "cell_type": "code",
   "execution_count": 171,
   "id": "1cb1c1bc",
   "metadata": {},
   "outputs": [
    {
     "name": "stdout",
     "output_type": "stream",
     "text": [
      "{'alpha': 10, 'solver': 'saga'}\n"
     ]
    }
   ],
   "source": [
    "parameters={\"alpha\": [0.001,0.01,0.1,1,10], 'solver': ['auto','svd','cholesky', 'lsqr', 'sparse_cg', 'sag','saga']}\n",
    "rd=Ridge()\n",
    "Z1=GridSearchCV(rd,parameters)\n",
    "Z1.fit(x_train, y_train)\n",
    "print(Z1.best_params_)"
   ]
  },
  {
   "cell_type": "code",
   "execution_count": 172,
   "id": "02a1d8b2",
   "metadata": {},
   "outputs": [
    {
     "name": "stdout",
     "output_type": "stream",
     "text": [
      "r2_score: 0.8412132657961973\n",
      "MSE: 21.543147122181246\n",
      "MAE: 4.382412931209617\n",
      "RMSE: 4.6414595896313955\n"
     ]
    }
   ],
   "source": [
    "rd=Ridge(alpha=10, solver='lsqr')\n",
    "rd.fit(x_train, y_train)\n",
    "pred=rd.predict(x_test)\n",
    "print('r2_score:',r2_score(y_test, pred))\n",
    "print('MSE:', metrics.mean_squared_error(y_test, pred))\n",
    "print('MAE:', metrics.mean_absolute_error(y_test, pred))\n",
    "print('RMSE:', np.sqrt(metrics.mean_squared_error(y_test, pred)))\n"
   ]
  },
  {
   "cell_type": "markdown",
   "id": "b19f9dc8",
   "metadata": {},
   "source": [
    "# Cross validation"
   ]
  },
  {
   "cell_type": "code",
   "execution_count": 173,
   "id": "2c0b3c47",
   "metadata": {},
   "outputs": [
    {
     "name": "stdout",
     "output_type": "stream",
     "text": [
      "LR : 33.227142, 22.206678\n",
      "R : 32.549049, 32.609656\n",
      "svr : 58.165562, 34.299786\n",
      "svr_p : 111.891643, 79.768934\n",
      "svr_r : 112.275451, 79.777668\n",
      "RF : 39.864027, 24.023091\n",
      "DTR : 70.216667, 45.490539\n",
      "GBR : 47.569624, 31.099844\n"
     ]
    }
   ],
   "source": [
    "from sklearn.model_selection import cross_val_score\n",
    "\n",
    "np.random.seed(10)\n",
    "def rmse_cv(model,x,y):\n",
    "    rmse=-(cross_val_score(model, x, y, scoring='neg_mean_squared_error', cv=10))\n",
    "    return(rmse)\n",
    "\n",
    "models=[LinearRegression(),\n",
    "        Ridge(),\n",
    "        SVR(kernel='linear'),\n",
    "        SVR(kernel='poly'),\n",
    "        SVR(kernel='rbf'),\n",
    "        RandomForestRegressor(),\n",
    "        DecisionTreeRegressor(),\n",
    "        GradientBoostingRegressor(),]\n",
    "        \n",
    "names=['LR','R', 'svr', 'svr_p', 'svr_r','RF','DTR', 'GBR']\n",
    "\n",
    "for model, name in zip(models, names):\n",
    "    score= rmse_cv(model,x,y)\n",
    "    print(\"{} : {:.6f}, {:4f}\".format(name, score.mean(), score.std()))      "
   ]
  },
  {
   "cell_type": "markdown",
   "id": "62c1d729",
   "metadata": {},
   "source": [
    "# Hyper Tuning Parameter"
   ]
  },
  {
   "cell_type": "code",
   "execution_count": 174,
   "id": "e12bdf68",
   "metadata": {},
   "outputs": [],
   "source": [
    "parameter={'alpha': [0.01,0.1,1.0,10.26],\n",
    "          'selection': ['cyclic','random'],\n",
    "          'max_iter':[2,4,6,8,10],\n",
    "          'tol':[100,1000],\n",
    "          'fit_intercept': ['bool']}"
   ]
  },
  {
   "cell_type": "code",
   "execution_count": 175,
   "id": "b0c29ee6",
   "metadata": {},
   "outputs": [],
   "source": [
    "GVC=GridSearchCV(Lasso(), parameter, cv=5)"
   ]
  },
  {
   "cell_type": "code",
   "execution_count": 176,
   "id": "ab2cae87",
   "metadata": {},
   "outputs": [
    {
     "data": {
      "text/plain": [
       "GridSearchCV(cv=5, estimator=Lasso(),\n",
       "             param_grid={'alpha': [0.01, 0.1, 1.0, 10.26],\n",
       "                         'fit_intercept': ['bool'],\n",
       "                         'max_iter': [2, 4, 6, 8, 10],\n",
       "                         'selection': ['cyclic', 'random'],\n",
       "                         'tol': [100, 1000]})"
      ]
     },
     "execution_count": 176,
     "metadata": {},
     "output_type": "execute_result"
    }
   ],
   "source": [
    "GVC.fit(x_train, y_train)"
   ]
  },
  {
   "cell_type": "code",
   "execution_count": 177,
   "id": "c545c8b2",
   "metadata": {},
   "outputs": [
    {
     "data": {
      "text/plain": [
       "{'alpha': 0.1,\n",
       " 'fit_intercept': 'bool',\n",
       " 'max_iter': 2,\n",
       " 'selection': 'random',\n",
       " 'tol': 1000}"
      ]
     },
     "execution_count": 177,
     "metadata": {},
     "output_type": "execute_result"
    }
   ],
   "source": [
    "GVC.best_params_"
   ]
  },
  {
   "cell_type": "code",
   "execution_count": 178,
   "id": "11717342",
   "metadata": {},
   "outputs": [
    {
     "name": "stdout",
     "output_type": "stream",
     "text": [
      "r2_score: 79.48387716584051\n",
      "MSE: 27.83493563295762\n",
      "MAE: 4.3354552220416105\n",
      "RMSE: 5.275882450638719\n"
     ]
    }
   ],
   "source": [
    "Final_mod=Lasso(alpha=1.0, fit_intercept='bool', max_iter=30, selection='random',tol=1000)\n",
    "Final_mod.fit(x_train, y_train)\n",
    "pred=Final_mod.predict(x_test)\n",
    "print('r2_score:',r2_score(y_test, pred)*100)\n",
    "print('MSE:', metrics.mean_squared_error(y_test, pred))\n",
    "print('MAE:', metrics.mean_absolute_error(y_test, pred))\n",
    "print('RMSE:', np.sqrt(metrics.mean_squared_error(y_test, pred)))\n"
   ]
  },
  {
   "cell_type": "markdown",
   "id": "2f6aa92f",
   "metadata": {},
   "source": [
    "# Saving the model:"
   ]
  },
  {
   "cell_type": "code",
   "execution_count": 179,
   "id": "33ea65fa",
   "metadata": {},
   "outputs": [
    {
     "data": {
      "text/plain": [
       "['BaseBallCaseStudy']"
      ]
     },
     "execution_count": 179,
     "metadata": {},
     "output_type": "execute_result"
    }
   ],
   "source": [
    "import joblib\n",
    "joblib.dump(Final_mod, \"BaseBallCaseStudy\")"
   ]
  },
  {
   "cell_type": "markdown",
   "id": "3780ad2d",
   "metadata": {},
   "source": [
    "Saved the model using joblib"
   ]
  },
  {
   "cell_type": "code",
   "execution_count": 180,
   "id": "8137203d",
   "metadata": {},
   "outputs": [
    {
     "data": {
      "text/plain": [
       "array([69.58640733, 67.11525668, 85.45311838, 79.89227939, 85.81429738,\n",
       "       88.93161129, 83.67532456])"
      ]
     },
     "execution_count": 180,
     "metadata": {},
     "output_type": "execute_result"
    }
   ],
   "source": [
    "model=joblib.load(\"BaseBallCaseStudy\")\n",
    "prediction= model.predict(x_test)\n",
    "prediction"
   ]
  },
  {
   "cell_type": "code",
   "execution_count": 181,
   "id": "63cb6a61",
   "metadata": {},
   "outputs": [
    {
     "data": {
      "text/html": [
       "<div>\n",
       "<style scoped>\n",
       "    .dataframe tbody tr th:only-of-type {\n",
       "        vertical-align: middle;\n",
       "    }\n",
       "\n",
       "    .dataframe tbody tr th {\n",
       "        vertical-align: top;\n",
       "    }\n",
       "\n",
       "    .dataframe thead th {\n",
       "        text-align: right;\n",
       "    }\n",
       "</style>\n",
       "<table border=\"1\" class=\"dataframe\">\n",
       "  <thead>\n",
       "    <tr style=\"text-align: right;\">\n",
       "      <th></th>\n",
       "      <th>0</th>\n",
       "      <th>1</th>\n",
       "      <th>2</th>\n",
       "      <th>3</th>\n",
       "      <th>4</th>\n",
       "      <th>5</th>\n",
       "      <th>6</th>\n",
       "    </tr>\n",
       "  </thead>\n",
       "  <tbody>\n",
       "    <tr>\n",
       "      <th>Predicted</th>\n",
       "      <td>69.586407</td>\n",
       "      <td>67.115257</td>\n",
       "      <td>85.453118</td>\n",
       "      <td>79.892279</td>\n",
       "      <td>85.814297</td>\n",
       "      <td>88.931611</td>\n",
       "      <td>83.675325</td>\n",
       "    </tr>\n",
       "    <tr>\n",
       "      <th>Original</th>\n",
       "      <td>67.000000</td>\n",
       "      <td>63.000000</td>\n",
       "      <td>97.000000</td>\n",
       "      <td>76.000000</td>\n",
       "      <td>83.000000</td>\n",
       "      <td>92.000000</td>\n",
       "      <td>86.000000</td>\n",
       "    </tr>\n",
       "  </tbody>\n",
       "</table>\n",
       "</div>"
      ],
      "text/plain": [
       "                   0          1          2          3          4          5  \\\n",
       "Predicted  69.586407  67.115257  85.453118  79.892279  85.814297  88.931611   \n",
       "Original   67.000000  63.000000  97.000000  76.000000  83.000000  92.000000   \n",
       "\n",
       "                   6  \n",
       "Predicted  83.675325  \n",
       "Original   86.000000  "
      ]
     },
     "execution_count": 181,
     "metadata": {},
     "output_type": "execute_result"
    }
   ],
   "source": [
    "pd.DataFrame([model.predict(x_test)[:], y_test[:]], index=[\"Predicted\", \"Original\"])"
   ]
  },
  {
   "cell_type": "markdown",
   "id": "c8b51b7e",
   "metadata": {},
   "source": [
    "Hence, both predicted and orginal values are almost equal."
   ]
  },
  {
   "cell_type": "markdown",
   "id": "de7c986d",
   "metadata": {},
   "source": [
    "# Thank you"
   ]
  },
  {
   "cell_type": "code",
   "execution_count": null,
   "id": "444f47d4",
   "metadata": {},
   "outputs": [],
   "source": []
  }
 ],
 "metadata": {
  "kernelspec": {
   "display_name": "Python 3 (ipykernel)",
   "language": "python",
   "name": "python3"
  },
  "language_info": {
   "codemirror_mode": {
    "name": "ipython",
    "version": 3
   },
   "file_extension": ".py",
   "mimetype": "text/x-python",
   "name": "python",
   "nbconvert_exporter": "python",
   "pygments_lexer": "ipython3",
   "version": "3.9.7"
  }
 },
 "nbformat": 4,
 "nbformat_minor": 5
}
